{
 "cells": [
  {
   "cell_type": "code",
   "execution_count": 2,
   "id": "37c56f0b",
   "metadata": {},
   "outputs": [],
   "source": [
    "# Importing libraries\n",
    "import requests\n",
    "from bs4 import BeautifulSoup\n",
    "import pandas as pd"
   ]
  },
  {
   "cell_type": "code",
   "execution_count": 3,
   "id": "d0082904",
   "metadata": {},
   "outputs": [],
   "source": [
    "# Creating a locations list to read used cars data from the locations\n",
    "location_list=['bangalore','new-delhi','mumbai','hyderabad','ahmedabad','gurgaon','chennai','pune','noida','lucknow','jaipur','kolkata','kochi','indore','chandigarh']"
   ]
  },
  {
   "cell_type": "code",
   "execution_count": 4,
   "id": "df2524e0",
   "metadata": {},
   "outputs": [],
   "source": [
    "# Declaring empty lists\n",
    "car_name=[]\n",
    "car_model_year=[]\n",
    "car_company=[]\n",
    "location=[]\n",
    "price=[]\n",
    "EMI=[]\n",
    "fuel=[]\n",
    "no_of_kms_used=[]\n",
    "car_type=[]\n",
    "# Reading contents of the webpages using location list\n",
    "for i in location_list:\n",
    "    headers = {'User-Agent': 'Mozilla/5.0 (Windows NT 10.0; Win64; x64) AppleWebKit/537.36 (KHTML, like Gecko) Chrome/116.0.0.0 Safari/537.36 Edg/116.0.1938.54'}\n",
    "    source = requests.get(f'https://www.cars24.com/buy-used-cars-{i}/',headers=headers)\n",
    "    source.raise_for_status()\n",
    "    soup = BeautifulSoup(source.text,'html.parser')\n",
    "    cars=soup.find_all('h3', class_=\"_11dVb\")\n",
    "    locations=soup.find_all('p',class_=\"_3dGMY\")\n",
    "    prices=soup.find_all('div',class_='_2KyOK')\n",
    "    Month_EMI=soup.find_all('div',class_='-EPGU')\n",
    "    Fuel=soup.find_all('ul',class_='_3J2G-')\n",
    "    # Reading required data into the empty lists created above\n",
    "    for car in cars:\n",
    "        car_name.append(car.text[5:])\n",
    "        car_model_year.append(car.text.split()[0])\n",
    "        car_company.append(car.text.split()[1])\n",
    "    for l in range(len(locations)):\n",
    "        location.append(i)\n",
    "    for pr in prices:\n",
    "        price.append(pr.text.split()[0]+' Lakh')\n",
    "    for emi in Month_EMI:\n",
    "        EMI.append((emi.text.split('from')[1]).split('/')[0])\n",
    "    for j in Fuel:\n",
    "        fuel.append(((j.text.split('km')[1]).split('A')[0]).split('M')[0])\n",
    "        no_of_kms_used.append(j.text.split('km')[0])\n",
    "        try:\n",
    "            car_type.append(j.text.split('l')[1])\n",
    "        except IndexError:\n",
    "            car_type.append(j.text.split('G')[1])"
   ]
  },
  {
   "cell_type": "code",
   "execution_count": 5,
   "id": "6364071c",
   "metadata": {},
   "outputs": [
    {
     "name": "stdout",
     "output_type": "stream",
     "text": [
      "['Tata TIGOR XZ DIESEL', 'Volkswagen TAIGUN TOPLINE 1.0 TSI MT', 'Hyundai Eon ERA +', 'Maruti Baleno ZETA PETROL 1.2', 'Hyundai NEW SANTRO MAGNA', 'Hyundai Santro Xing GL PLUS', 'Maruti Swift Dzire VXI', 'MG HECTOR SHARP 2.0 DIESEL', 'Datsun Redi Go T(O) 1.0 AMT', 'Maruti Baleno DELTA CVT PETROL 1.2', 'Tata NEXON XZA PLUS (O) PETROL DUAL TONE', 'Mahindra XUV300 W8 (O) 1.2 PETROL AMT', 'Honda Amaze 1.5L I-DTEC V CVT', 'Jeep Compass LONGITUDE PLUS 1.4 PETROL AT', 'Hyundai i10 ASTA 1.2', 'Hyundai AURA S 1.2 AMT', 'Hyundai GRAND I10 NIOS SPORTZ 1.2 KAPPA VTVT DUAL TONE', 'Mahindra XUV300 W8 (O) 1.2 PETROL AMT', 'Honda City 1.5L I-VTEC S MT', 'Maruti Alto K10 VXI AMT', 'Maruti Alto K10 VXI', 'Ford Ecosport TITANIUM 1.5L DIESEL', 'Nissan MAGNITE XV RED EDITION', 'Honda City 1.5L I-VTEC V MT 4TH GEN', 'Hyundai AURA S 1.2 CNG', 'Nissan MAGNITE XE', 'Maruti Swift LXI', 'Maruti Wagon R 1.0 VXI', 'Tata ALTROZ XZ PETROL', 'Maruti Alto 800 LXI', 'Tata ALTROZ XE PETROL', 'Nissan MAGNITE XE', 'Honda Amaze 1.2L I-VTEC S', 'Hyundai VENUE SX 1.0 TURBO', 'Maruti Baleno ALPHA 1.2 AGS', 'Maruti IGNIS DELTA 1.2', 'Renault Duster RXE PETROL', 'Honda BR-V 1.5L I-VTEC V', 'Maruti Celerio LXI (O)', 'Tata Tiago XE PETROL', 'Maruti Swift Dzire ZDI', 'Hyundai Xcent S 1.2', 'Skoda Rapid STYLE 1.6 MPI AT', 'Maruti Ertiga VXI CNG', 'Honda City 1.5L I-VTEC V MT', 'Hyundai i10 MAGNA 1.2', 'Honda City 1.5L I-VTEC SV', 'Maruti S PRESSO VXI+', 'Maruti New Wagon-R LXI CNG (O) 1.0', 'Maruti Ertiga ZDI SHVS', 'Maruti S PRESSO VXI PLUS AMT', 'Maruti New Wagon-R LXI CNG (O) 1.0', 'Maruti Ciaz ALPHA  AT 1.5 SHVS PETROL', 'Volkswagen Ameo HIGHLINE1.2L', 'Tata NEXON XZ PLUS PETROL', 'Maruti Wagon R 1.0 VXI', 'Honda Jazz 1.2L I-VTEC V', 'Tata NEXON XZA PLUS PETROL', 'Hyundai Verna 1.6 VTVT SX (O) AT', 'Hyundai Grand i10 SPORTZ 1.2 KAPPA VTVT', 'Maruti Swift VXI', 'Volkswagen Polo COMFORTLINE 1.2L', 'Maruti Celerio VXI AMT (O)', 'Maruti Dzire VXI', 'Tata NEXON XM PETROL', 'Maruti New Wagon-R ZXI 1.2 AMT', 'Tata Tiago XZ PLUS DUAL TONE PETROL', 'Hyundai Verna 1.6 VTVT SX O', 'Maruti Swift Dzire VXI (O)', 'Maruti Ciaz DELTA 1.4 MT PETROL', 'Mahindra Thar LX PETROL HT 4WD AT', 'Maruti Celerio ZXI AMT', 'Maruti Celerio VXI', 'Maruti Celerio ZXI', 'Hyundai Creta SX PLUS 1.6 PETROL', 'Maruti Swift ZDI', 'Tata ALTROZ XZ PLUS PETROL', 'Honda Brio S MT', 'Mahindra Bolero B6 (O)', 'Maruti Vitara Brezza ZXI PLUS AT SHVS', 'Honda City 1.5L I-VTEC SV CVT', 'Hyundai Elite i20 MAGNA 1.2', 'Hyundai Grand i10 ASTA 1.2 KAPPA VTVT', 'Tata NEXON XM PLUS SUNROOF PETROL', 'Hyundai NEW SANTRO SPORTZ MT', 'Maruti Wagon R 1.0 VXI AMT', 'Tata PUNCH CREATIVE  MT', 'Maruti Ciaz ALPHA 1.5 SHVS PETROL', 'Maruti Baleno ALPHA PETROL 1.2', 'Maruti Alto VXI', 'Hyundai Grand i10 MAGNA 1.2 KAPPA VTVT', 'Maruti IGNIS ZETA 1.2 AMT', 'Tata Tiago XZA PETROL', 'Maruti Alto LXI', 'Skoda SLAVIA ACTIVE 1.0L TSI MT', 'Hyundai Grand i10 MAGNA 1.2 KAPPA VTVT', 'Hyundai Verna FLUIDIC 1.6 CRDI S(O) 4S', 'Hyundai Grand i10 SPORTZ 1.2 KAPPA VTVT', 'Hyundai Creta SX PLUS 1.6 PETROL', 'Ford Ecosport TITANIUM 1.5L DIESEL', 'Honda WR-V 1.2L I-VTEC S MT', 'Nissan MAGNITE XE', 'Tata NEXON XZ PLUS PETROL', 'KIA SONET HTK PLUS 1.0 IMT', 'Hyundai Creta SX (O) 1.6 PETROL', 'Hyundai Creta SX AT 1.6 DIESEL', 'Tata Harrier XZA PLUS 2.0L DARK EDITION', 'Renault Kwid RXL', 'Maruti Baleno ALPHA PETROL 1.2', 'Jeep Compass LONGITUDE (O) 2.0 DIESEL', 'Tata PUNCH CREATIVE 1.2 MT KAZIRANGA EDITION ', 'Ford Ecosport AMBIENTE 1.5L PETROL', 'Maruti Ertiga ZXI+ AT SHVS', 'Tata Harrier XZ 2.0L', 'Maruti Swift LXI', 'Toyota URBAN CRUISER MID GRADE AT', 'Skoda Rapid 1.0 AMBITION TSI MT', 'Ford Ecosport TITANIUM 1.5 SPORTS(SUNROOF) PETROL', 'Mahindra XUV700 AX 7 LUXURY D AWD AT 7 STR', 'Maruti Wagon R 1.0 LXI CNG', 'Hyundai Creta SX PLUS AT 1.6 PETROL', 'Maruti Swift Dzire VXI', 'Ford Ecosport TITANIUM + 1.5L PETROL AT', 'Hyundai VENUE SX 1.0 TURBO', 'Toyota URBAN CRUISER PREMIUM GRADE AT', 'Maruti Swift ZXI', 'Renault TRIBER RXZ', 'Tata Tiago XZA PETROL', 'Maruti Celerio ZXI (O)', 'Maruti Alto VXI', 'Honda Amaze 1.2L I-VTEC S', 'Maruti Alto K10 VXI', 'Maruti Swift Dzire VXI (O)', 'Hyundai Grand i10 SPORTZ (O) AT 1.2 KAPPA VTVT', 'Maruti Ciaz ZETA 1.4  MT PETROL', 'Volkswagen Vento HIGHLINE PETROL AT', 'Maruti Baleno DELTA PETROL 1.2', 'Honda City 1.5L I-VTEC S AT', 'Maruti Swift VDI AMT', 'Tata TIGOR XZA PETROL', 'Renault Kwid CLIMBER 1.0 AMT', 'Maruti Swift Dzire ZDI', 'Volkswagen Polo COMFORTLINE 1.0L MPI', 'Maruti Vitara Brezza VDI (O)', 'Maruti New Wagon-R VXI (O) 1.0', 'Maruti IGNIS ZETA 1.2 AMT DUAL TONE', 'Maruti Wagon R Stingray VXI', 'Maruti Wagon R 1.0 VXI AMT', 'Maruti Wagon R 1.0 LXI', 'Mahindra XUV500 W4', 'Hyundai Creta SX 1.5 PETROL', 'Nissan MAGNITE XE', 'Maruti Baleno DELTA PETROL 1.2', 'Maruti Swift VXI', 'Maruti Dzire VXI', 'Toyota Etios G', 'Maruti IGNIS ZETA 1.2 AMT', 'Hyundai Grand i10 SPORTZ AT 1.2 KAPPA VTVT', 'Hyundai i10 MAGNA 1.2', 'Maruti Wagon R Stingray VXI', 'Renault Kwid RXL', 'Tata NEXON XM PETROL', 'Maruti New Wagon-R ZXI 1.2', 'Hyundai Eon ERA +', 'Maruti New Wagon-R LXI CNG 1.0', 'Maruti New Wagon-R LXI CNG 1.0', 'Hyundai AURA S 1.2 CNG', 'Maruti New Wagon-R ZXI 1.2', 'Ford Ecosport TITANIUM + 1.5L PETROL AT', 'Maruti New Wagon-R LXI CNG (O) 1.0', 'Hyundai Grand i10 SPORTZ 1.2 KAPPA VTVT', 'Maruti Ciaz VXI', 'Renault Kwid RXT 1.0', 'Hyundai Elite i20 MAGNA 1.2', 'Hyundai Creta BASE 1.6 PETROL', 'Honda City 1.5L I-VTEC V MT', 'Maruti Ciaz SIGMA 1.5 SHVS MT  PETROL', 'Maruti Alto 800 LXI', 'Honda Brio E MT', 'Renault Kwid CLIMBER 1.0 (O)', 'Maruti Swift VXI O', 'Maruti Alto VXI', 'Maruti Alto VXI', 'Maruti Baleno DELTA PETROL 1.2', 'Maruti S PRESSO VXI', 'Maruti Swift Dzire ZXI', 'Honda Civic 1.8L I-VTEC V AT SUNROOF', 'Maruti Alto K10 VXI', 'Maruti Swift VXI', 'Maruti Celerio VXI (O)', 'Maruti IGNIS ZETA 1.2', 'Maruti IGNIS ZETA 1.2 AMT', 'Honda Amaze 1.2L I-VTEC S', 'Maruti Baleno ZETA PETROL 1.2', 'Maruti Baleno DELTA PETROL 1.2', 'Hyundai Verna S PLUS 1.5 CRDI', 'Maruti Alto 800 LXI', 'Hyundai Elite i20 SPORTZ PLUS 1.2', 'Maruti Alto VXI', 'Maruti Swift VXI O', 'Ford Ecosport TITANIUM 1.5L DIESEL', 'Maruti Baleno ZETA PETROL 1.2', 'Maruti Alto K10 VXI CNG', 'Tata NEXON XM PETROL', 'Renault Kwid RXT 0.8', 'Hyundai Elite i20 SPORTZ 1.2', 'Maruti Swift Dzire VDI ABS', 'Maruti Vitara Brezza VXI', 'Mahindra KUV 100 NXT K4+ P 6 STR', 'Hyundai Verna 1.6 VTVT SX', 'Renault Kwid RXT 1.0 (O)', 'Maruti Alto K10 VXI', 'Honda Jazz 1.5L I-DTEC VX', 'Maruti Ertiga VDI SHVS', 'Hyundai Creta SX PLUS 1.6 PETROL', 'Hyundai GRAND I10 NIOS ASTA 1.2 KAPPA VTVT', 'Honda Amaze 1.2L I-VTEC S', 'Hyundai Grand i10 ASTA 1.2 KAPPA VTVT', 'Hyundai Verna S PLUS 1.5 VTVT', 'Maruti Swift LXI', 'Datsun Redi Go A', 'Maruti Alto 800 VXI', 'Maruti Alto LXI', 'Hyundai Elite i20 ASTA 1.2 DUAL TONE', 'Tata Tiago XE PETROL', 'Nissan MAGNITE XL', 'Maruti New Wagon-R ZXI 1.2', 'Renault Kwid RXT 1.0 (O)', 'Maruti Alto LXI O', 'Renault Kwid RXT 0.8', 'Renault Kwid RXT 0.8', 'Honda City 1.5L I-VTEC V MT', 'Tata NEXON XM PETROL', 'Skoda Rapid AMBITION 1.6 MPI MT', 'Maruti IGNIS DELTA 1.2 AMT', 'Honda Jazz 1.2L I-VTEC V CVT', 'Maruti Baleno DELTA CVT PETROL 1.2', 'Hyundai VENUE S 1.2', 'Mahindra KUV 100 NXT K4+ P 6 STR', 'Maruti Alto VXI', 'Tata Tiago XT PETROL', 'Honda Jazz 1.2L I-VTEC V', 'Honda Amaze 1.2L I-VTEC S', 'Maruti Alto 800 LXI', 'Renault TRIBER RXL MT', 'Renault Duster 85 PS RXE DIESEL', 'Renault Kwid RXT 1.0 (O)', 'Ford Ecosport TITANIUM 1.5L SIGNATURE EDITION (SUNROOF) PETROL', 'Hyundai Elite i20 ASTA 1.2 (O)', 'Tata Tiago XT PETROL', 'Hyundai i10 MAGNA 1.2', 'Nissan MAGNITE XL', 'Maruti Swift Dzire VXI', 'Hyundai i10 ERA 1.1', 'Hyundai AURA SX 1.2', 'Hyundai Elite i20 SPORTZ PLUS 1.2', 'Maruti Ertiga VDI SHVS', 'Maruti Alto 800 LXI', 'Maruti Alto K10 VXI', 'Maruti Ritz VDI', 'Renault Kwid RXL', 'Maruti Alto K10 VXI', 'Hyundai Verna 1.4 EX PETROL', 'Maruti Swift VXI', 'Hyundai AURA SX 1.2', 'Honda Amaze 1.2L I-VTEC S', 'Hyundai NEW SANTRO SPORTZ MT', 'Maruti Baleno DELTA PETROL 1.2', 'Hyundai Grand i10 SPORTZ 1.2 KAPPA VTVT DUAL TONE', 'Ford Ecosport TREND+ 1.0L ECOBOOST', 'Maruti Ritz VDI', 'Hyundai Verna FLUIDIC 1.6 CRDI SX', 'Maruti New Wagon-R VXI (O) 1.2', 'Mahindra Bolero B4', 'Hyundai VENUE SX 1.0 TURBO', 'Toyota Etios CROSS 1.4 VD', 'Honda Amaze 1.2L I-VTEC VX', 'Maruti Wagon R 1.0 VXI', 'Datsun Redi Go T(O) 1.0 AMT', 'Maruti Baleno ALPHA PETROL 1.2', 'Maruti Baleno DELTA PETROL 1.2', 'Honda WR-V 1.2L I-VTEC VX MT', 'Maruti Dzire ZXI PLUS', 'Hyundai Creta SX 1.6 DIESEL', 'Skoda Rapid AMBITION 1.6 MPI MT', 'Maruti Swift VXI', 'Hyundai i10 MAGNA 1.2', 'Nissan MAGNITE XV MT', 'Honda City 1.5L I-VTEC ZX CVT', 'Ford Ecosport TREND 1.5L DIESEL', 'Tata ALTROZ XM PLUS PETROL', 'KIA SELTOS HTX ANNIVERSARY EDITION 1.5 PETROL', 'Maruti Vitara Brezza VXI', 'Mahindra Kuv100 K6 PLUS D 6 STR', 'Ford Ecosport TITANIUM 1.5L DIESEL', 'Toyota Innova 2.5 VX 8 STR', 'Maruti S PRESSO VXI PLUS AMT', 'Tata TIGOR XZ PLUS PETROL', 'Hyundai Creta S 1.4 DIESEL', 'Honda City 1.5L I-DTEC E']\n"
     ]
    }
   ],
   "source": [
    "print(car_name)"
   ]
  },
  {
   "cell_type": "code",
   "execution_count": 6,
   "id": "0f9c25b8",
   "metadata": {},
   "outputs": [
    {
     "name": "stdout",
     "output_type": "stream",
     "text": [
      "['2018', '2022', '2014', '2022', '2020', '2011', '2013', '2019', '2020', '2021', '2020', '2022', '2019', '2018', '2013', '2021', '2020', '2022', '2012', '2014', '2018', '2019', '2022', '2022', '2022', '2021', '2020', '2016', '2023', '2018', '2022', '2021', '2022', '2019', '2022', '2022', '2019', '2016', '2020', '2018', '2013', '2014', '2017', '2014', '2011', '2013', '2016', '2019', '2021', '2018', '2020', '2021', '2019', '2016', '2022', '2015', '2017', '2018', '2017', '2017', '2022', '2016', '2018', '2020', '2020', '2021', '2020', '2019', '2016', '2017', '2021', '2015', '2014', '2019', '2017', '2018', '2022', '2012', '2022', '2021', '2015', '2015', '2015', '2023', '2018', '2016', '2023', '2021', '2017', '2022', '2016', '2017', '2018', '2019', '2023', '2014', '2015', '2017', '2015', '2017', '2017', '2022', '2022', '2022', '2018', '2019', '2023', '2021', '2022', '2019', '2022', '2017', '2022', '2019', '2018', '2021', '2021', '2020', '2022', '2017', '2016', '2015', '2020', '2021', '2022', '2017', '2020', '2018', '2020', '2022', '2015', '2014', '2016', '2017', '2017', '2015', '2016', '2013', '2018', '2018', '2018', '2013', '2018', '2017', '2019', '2017', '2014', '2016', '2012', '2015', '2022', '2022', '2017', '2013', '2018', '2011', '2018', '2019', '2011', '2014', '2021', '2019', '2022', '2014', '2022', '2023', '2020', '2022', '2019', '2019', '2018', '2015', '2023', '2014', '2016', '2015', '2021', '2016', '2015', '2022', '2017', '2020', '2020', '2018', '2021', '2015', '2012', '2017', '2016', '2018', '2018', '2018', '2019', '2021', '2015', '2020', '2017', '2019', '2021', '2017', '2020', '2022', '2022', '2021', '2019', '2016', '2015', '2021', '2018', '2019', '2021', '2018', '2016', '2016', '2015', '2020', '2015', '2015', '2021', '2013', '2020', '2016', '2021', '2018', '2018', '2023', '2022', '2021', '2022', '2021', '2020', '2017', '2019', '2019', '2019', '2018', '2018', '2021', '2017', '2020', '2022', '2021', '2018', '2013', '2022', '2015', '2018', '2018', '2017', '2021', '2011', '2022', '2014', '2012', '2020', '2020', '2016', '2013', '2011', '2012', '2020', '2018', '2019', '2014', '2020', '2017', '2018', '2016', '2018', '2017', '2015', '2012', '2019', '2023', '2021', '2015', '2019', '2016', '2018', '2018', '2018', '2017', '2018', '2018', '2019', '2018', '2012', '2021', '2018', '2017', '2022', '2021', '2021', '2017', '2016', '2015', '2020', '2020', '2015', '2015']\n"
     ]
    }
   ],
   "source": [
    "print(car_model_year)"
   ]
  },
  {
   "cell_type": "code",
   "execution_count": 7,
   "id": "dcbf412f",
   "metadata": {},
   "outputs": [
    {
     "name": "stdout",
     "output_type": "stream",
     "text": [
      "['Tata', 'Volkswagen', 'Hyundai', 'Maruti', 'Hyundai', 'Hyundai', 'Maruti', 'MG', 'Datsun', 'Maruti', 'Tata', 'Mahindra', 'Honda', 'Jeep', 'Hyundai', 'Hyundai', 'Hyundai', 'Mahindra', 'Honda', 'Maruti', 'Maruti', 'Ford', 'Nissan', 'Honda', 'Hyundai', 'Nissan', 'Maruti', 'Maruti', 'Tata', 'Maruti', 'Tata', 'Nissan', 'Honda', 'Hyundai', 'Maruti', 'Maruti', 'Renault', 'Honda', 'Maruti', 'Tata', 'Maruti', 'Hyundai', 'Skoda', 'Maruti', 'Honda', 'Hyundai', 'Honda', 'Maruti', 'Maruti', 'Maruti', 'Maruti', 'Maruti', 'Maruti', 'Volkswagen', 'Tata', 'Maruti', 'Honda', 'Tata', 'Hyundai', 'Hyundai', 'Maruti', 'Volkswagen', 'Maruti', 'Maruti', 'Tata', 'Maruti', 'Tata', 'Hyundai', 'Maruti', 'Maruti', 'Mahindra', 'Maruti', 'Maruti', 'Maruti', 'Hyundai', 'Maruti', 'Tata', 'Honda', 'Mahindra', 'Maruti', 'Honda', 'Hyundai', 'Hyundai', 'Tata', 'Hyundai', 'Maruti', 'Tata', 'Maruti', 'Maruti', 'Maruti', 'Hyundai', 'Maruti', 'Tata', 'Maruti', 'Skoda', 'Hyundai', 'Hyundai', 'Hyundai', 'Hyundai', 'Ford', 'Honda', 'Nissan', 'Tata', 'KIA', 'Hyundai', 'Hyundai', 'Tata', 'Renault', 'Maruti', 'Jeep', 'Tata', 'Ford', 'Maruti', 'Tata', 'Maruti', 'Toyota', 'Skoda', 'Ford', 'Mahindra', 'Maruti', 'Hyundai', 'Maruti', 'Ford', 'Hyundai', 'Toyota', 'Maruti', 'Renault', 'Tata', 'Maruti', 'Maruti', 'Honda', 'Maruti', 'Maruti', 'Hyundai', 'Maruti', 'Volkswagen', 'Maruti', 'Honda', 'Maruti', 'Tata', 'Renault', 'Maruti', 'Volkswagen', 'Maruti', 'Maruti', 'Maruti', 'Maruti', 'Maruti', 'Maruti', 'Mahindra', 'Hyundai', 'Nissan', 'Maruti', 'Maruti', 'Maruti', 'Toyota', 'Maruti', 'Hyundai', 'Hyundai', 'Maruti', 'Renault', 'Tata', 'Maruti', 'Hyundai', 'Maruti', 'Maruti', 'Hyundai', 'Maruti', 'Ford', 'Maruti', 'Hyundai', 'Maruti', 'Renault', 'Hyundai', 'Hyundai', 'Honda', 'Maruti', 'Maruti', 'Honda', 'Renault', 'Maruti', 'Maruti', 'Maruti', 'Maruti', 'Maruti', 'Maruti', 'Honda', 'Maruti', 'Maruti', 'Maruti', 'Maruti', 'Maruti', 'Honda', 'Maruti', 'Maruti', 'Hyundai', 'Maruti', 'Hyundai', 'Maruti', 'Maruti', 'Ford', 'Maruti', 'Maruti', 'Tata', 'Renault', 'Hyundai', 'Maruti', 'Maruti', 'Mahindra', 'Hyundai', 'Renault', 'Maruti', 'Honda', 'Maruti', 'Hyundai', 'Hyundai', 'Honda', 'Hyundai', 'Hyundai', 'Maruti', 'Datsun', 'Maruti', 'Maruti', 'Hyundai', 'Tata', 'Nissan', 'Maruti', 'Renault', 'Maruti', 'Renault', 'Renault', 'Honda', 'Tata', 'Skoda', 'Maruti', 'Honda', 'Maruti', 'Hyundai', 'Mahindra', 'Maruti', 'Tata', 'Honda', 'Honda', 'Maruti', 'Renault', 'Renault', 'Renault', 'Ford', 'Hyundai', 'Tata', 'Hyundai', 'Nissan', 'Maruti', 'Hyundai', 'Hyundai', 'Hyundai', 'Maruti', 'Maruti', 'Maruti', 'Maruti', 'Renault', 'Maruti', 'Hyundai', 'Maruti', 'Hyundai', 'Honda', 'Hyundai', 'Maruti', 'Hyundai', 'Ford', 'Maruti', 'Hyundai', 'Maruti', 'Mahindra', 'Hyundai', 'Toyota', 'Honda', 'Maruti', 'Datsun', 'Maruti', 'Maruti', 'Honda', 'Maruti', 'Hyundai', 'Skoda', 'Maruti', 'Hyundai', 'Nissan', 'Honda', 'Ford', 'Tata', 'KIA', 'Maruti', 'Mahindra', 'Ford', 'Toyota', 'Maruti', 'Tata', 'Hyundai', 'Honda']\n"
     ]
    }
   ],
   "source": [
    "print(car_company)"
   ]
  },
  {
   "cell_type": "code",
   "execution_count": 8,
   "id": "5f6b90c6",
   "metadata": {},
   "outputs": [
    {
     "name": "stdout",
     "output_type": "stream",
     "text": [
      "['bangalore', 'bangalore', 'bangalore', 'bangalore', 'bangalore', 'bangalore', 'bangalore', 'bangalore', 'bangalore', 'bangalore', 'bangalore', 'bangalore', 'bangalore', 'bangalore', 'bangalore', 'bangalore', 'bangalore', 'bangalore', 'bangalore', 'bangalore', 'new-delhi', 'new-delhi', 'new-delhi', 'new-delhi', 'new-delhi', 'new-delhi', 'new-delhi', 'new-delhi', 'new-delhi', 'new-delhi', 'new-delhi', 'new-delhi', 'new-delhi', 'new-delhi', 'new-delhi', 'new-delhi', 'new-delhi', 'new-delhi', 'new-delhi', 'new-delhi', 'mumbai', 'mumbai', 'mumbai', 'mumbai', 'mumbai', 'mumbai', 'mumbai', 'mumbai', 'mumbai', 'mumbai', 'mumbai', 'mumbai', 'mumbai', 'mumbai', 'mumbai', 'mumbai', 'mumbai', 'mumbai', 'mumbai', 'mumbai', 'hyderabad', 'hyderabad', 'hyderabad', 'hyderabad', 'hyderabad', 'hyderabad', 'hyderabad', 'hyderabad', 'hyderabad', 'hyderabad', 'hyderabad', 'hyderabad', 'hyderabad', 'hyderabad', 'hyderabad', 'hyderabad', 'hyderabad', 'hyderabad', 'hyderabad', 'hyderabad', 'ahmedabad', 'ahmedabad', 'ahmedabad', 'ahmedabad', 'ahmedabad', 'ahmedabad', 'ahmedabad', 'ahmedabad', 'ahmedabad', 'ahmedabad', 'ahmedabad', 'ahmedabad', 'ahmedabad', 'ahmedabad', 'ahmedabad', 'ahmedabad', 'ahmedabad', 'ahmedabad', 'ahmedabad', 'ahmedabad', 'gurgaon', 'gurgaon', 'gurgaon', 'gurgaon', 'gurgaon', 'gurgaon', 'gurgaon', 'gurgaon', 'gurgaon', 'gurgaon', 'gurgaon', 'gurgaon', 'gurgaon', 'gurgaon', 'gurgaon', 'gurgaon', 'gurgaon', 'gurgaon', 'gurgaon', 'gurgaon', 'chennai', 'chennai', 'chennai', 'chennai', 'chennai', 'chennai', 'chennai', 'chennai', 'chennai', 'chennai', 'chennai', 'chennai', 'chennai', 'chennai', 'chennai', 'chennai', 'chennai', 'chennai', 'chennai', 'chennai', 'pune', 'pune', 'pune', 'pune', 'pune', 'pune', 'pune', 'pune', 'pune', 'pune', 'pune', 'pune', 'pune', 'pune', 'pune', 'pune', 'pune', 'pune', 'pune', 'pune', 'noida', 'noida', 'noida', 'noida', 'noida', 'noida', 'noida', 'noida', 'noida', 'noida', 'noida', 'noida', 'noida', 'noida', 'noida', 'noida', 'noida', 'noida', 'noida', 'noida', 'lucknow', 'lucknow', 'lucknow', 'lucknow', 'lucknow', 'lucknow', 'lucknow', 'lucknow', 'lucknow', 'lucknow', 'lucknow', 'lucknow', 'lucknow', 'lucknow', 'lucknow', 'lucknow', 'lucknow', 'lucknow', 'lucknow', 'lucknow', 'jaipur', 'jaipur', 'jaipur', 'jaipur', 'jaipur', 'jaipur', 'jaipur', 'jaipur', 'jaipur', 'jaipur', 'jaipur', 'jaipur', 'jaipur', 'jaipur', 'jaipur', 'jaipur', 'jaipur', 'jaipur', 'jaipur', 'jaipur', 'kolkata', 'kolkata', 'kolkata', 'kolkata', 'kolkata', 'kolkata', 'kolkata', 'kolkata', 'kolkata', 'kolkata', 'kolkata', 'kolkata', 'kolkata', 'kolkata', 'kolkata', 'kolkata', 'kolkata', 'kolkata', 'kolkata', 'kolkata', 'kochi', 'kochi', 'kochi', 'kochi', 'kochi', 'kochi', 'kochi', 'kochi', 'kochi', 'kochi', 'kochi', 'kochi', 'kochi', 'kochi', 'kochi', 'kochi', 'kochi', 'kochi', 'kochi', 'kochi', 'indore', 'indore', 'indore', 'indore', 'indore', 'indore', 'indore', 'indore', 'indore', 'indore', 'indore', 'indore', 'indore', 'indore', 'indore', 'indore', 'indore', 'indore', 'indore', 'indore', 'chandigarh', 'chandigarh', 'chandigarh', 'chandigarh', 'chandigarh', 'chandigarh', 'chandigarh', 'chandigarh', 'chandigarh', 'chandigarh', 'chandigarh', 'chandigarh', 'chandigarh', 'chandigarh', 'chandigarh', 'chandigarh', 'chandigarh', 'chandigarh', 'chandigarh', 'chandigarh']\n"
     ]
    }
   ],
   "source": [
    "print(location)"
   ]
  },
  {
   "cell_type": "code",
   "execution_count": 9,
   "id": "3b3ea878",
   "metadata": {},
   "outputs": [
    {
     "name": "stdout",
     "output_type": "stream",
     "text": [
      "['₹5.46 Lakh', '₹16.09 Lakh', '₹2.23 Lakh', '₹8.20 Lakh', '₹4.97 Lakh', '₹2.85 Lakh', '₹4.55 Lakh', '₹14.91 Lakh', '₹4.74 Lakh', '₹7.51 Lakh', '₹10.90 Lakh', '₹13.25 Lakh', '₹8.11 Lakh', '₹14.83 Lakh', '₹4.42 Lakh', '₹7.87 Lakh', '₹7.07 Lakh', '₹12.75 Lakh', '₹4.99 Lakh', '₹2.95 Lakh', '₹2.95 Lakh', '₹7.12 Lakh', '₹7.31 Lakh', '₹10.11 Lakh', '₹6.46 Lakh', '₹5.78 Lakh', '₹5.16 Lakh', '₹3.25 Lakh', '₹7.63 Lakh', '₹2.84 Lakh', '₹5.87 Lakh', '₹5.87 Lakh', '₹6.70 Lakh', '₹8.61 Lakh', '₹9.76 Lakh', '₹5.72 Lakh', '₹6.86 Lakh', '₹6.11 Lakh', '₹3.88 Lakh', '₹3.81 Lakh', '₹4.75 Lakh', '₹4.16 Lakh', '₹6.29 Lakh', '₹5.66 Lakh', '₹2.97 Lakh', '₹2.74 Lakh', '₹5.78 Lakh', '₹4.62 Lakh', '₹6.29 Lakh', '₹8.57 Lakh', '₹4.63 Lakh', '₹6.23 Lakh', '₹7.32 Lakh', '₹4.84 Lakh', '₹9.75 Lakh', '₹3.10 Lakh', '₹4.52 Lakh', '₹7.20 Lakh', '₹8.51 Lakh', '₹4.51 Lakh', '₹6.60 Lakh', '₹4.15 Lakh', '₹4.76 Lakh', '₹6.78 Lakh', '₹7.61 Lakh', '₹6.61 Lakh', '₹6.83 Lakh', '₹8.97 Lakh', '₹5.35 Lakh', '₹5.91 Lakh', '₹14.16 Lakh', '₹4.19 Lakh', '₹3.46 Lakh', '₹4.92 Lakh', '₹9.37 Lakh', '₹6.05 Lakh', '₹8.24 Lakh', '₹3.19 Lakh', '₹9.86 Lakh', '₹10.09 Lakh', '₹5.40 Lakh', '₹5.54 Lakh', '₹4.75 Lakh', '₹9.55 Lakh', '₹3.91 Lakh', '₹3.55 Lakh', '₹8.64 Lakh', '₹9.16 Lakh', '₹5.56 Lakh', '₹4.26 Lakh', '₹4.61 Lakh', '₹4.98 Lakh', '₹4.59 Lakh', '₹3.72 Lakh', '₹11.30 Lakh', '₹3.65 Lakh', '₹5.81 Lakh', '₹5.05 Lakh', '₹7.48 Lakh', '₹5.81 Lakh', '₹5.37 Lakh', '₹6.01 Lakh', '₹9.02 Lakh', '₹10.13 Lakh', '₹10.74 Lakh', '₹11.41 Lakh', '₹19.92 Lakh', '₹3.61 Lakh', '₹8.20 Lakh', '₹10.94 Lakh', '₹7.88 Lakh', '₹5.61 Lakh', '₹11.29 Lakh', '₹10.15 Lakh', '₹4.50 Lakh', '₹9.02 Lakh', '₹7.84 Lakh', '₹8.62 Lakh', '₹25.61 Lakh', '₹3.43 Lakh', '₹9.24 Lakh', '₹5.23 Lakh', '₹9.17 Lakh', '₹8.95 Lakh', '₹11.41 Lakh', '₹5.95 Lakh', '₹6.89 Lakh', '₹5.31 Lakh', '₹5.46 Lakh', '₹4.39 Lakh', '₹4.34 Lakh', '₹2.74 Lakh', '₹5.69 Lakh', '₹5.65 Lakh', '₹7.24 Lakh', '₹5.64 Lakh', '₹5.38 Lakh', '₹4.38 Lakh', '₹6.08 Lakh', '₹5.44 Lakh', '₹4.18 Lakh', '₹6.00 Lakh', '₹5.32 Lakh', '₹7.69 Lakh', '₹5.13 Lakh', '₹5.32 Lakh', '₹3.54 Lakh', '₹3.91 Lakh', '₹2.91 Lakh', '₹6.12 Lakh', '₹14.95 Lakh', '₹5.75 Lakh', '₹6.22 Lakh', '₹3.60 Lakh', '₹5.71 Lakh', '₹2.73 Lakh', '₹5.53 Lakh', '₹5.76 Lakh', '₹2.23 Lakh', '₹3.71 Lakh', '₹3.65 Lakh', '₹7.00 Lakh', '₹6.29 Lakh', '₹1.80 Lakh', '₹6.37 Lakh', '₹6.48 Lakh', '₹6.95 Lakh', '₹6.63 Lakh', '₹9.08 Lakh', '₹5.53 Lakh', '₹4.81 Lakh', '₹5.28 Lakh', '₹5.32 Lakh', '₹4.17 Lakh', '₹7.11 Lakh', '₹5.81 Lakh', '₹7.70 Lakh', '₹2.60 Lakh', '₹2.75 Lakh', '₹4.88 Lakh', '₹5.23 Lakh', '₹3.97 Lakh', '₹3.97 Lakh', '₹5.76 Lakh', '₹4.48 Lakh', '₹4.45 Lakh', '₹4.37 Lakh', '₹2.65 Lakh', '₹3.99 Lakh', '₹4.14 Lakh', '₹4.12 Lakh', '₹4.91 Lakh', '₹6.59 Lakh', '₹6.72 Lakh', '₹4.34 Lakh', '₹9.45 Lakh', '₹2.40 Lakh', '₹6.70 Lakh', '₹3.66 Lakh', '₹4.57 Lakh', '₹8.52 Lakh', '₹8.17 Lakh', '₹5.43 Lakh', '₹7.52 Lakh', '₹4.07 Lakh', '₹4.86 Lakh', '₹4.77 Lakh', '₹7.06 Lakh', '₹4.16 Lakh', '₹7.82 Lakh', '₹4.08 Lakh', '₹3.09 Lakh', '₹3.99 Lakh', '₹6.96 Lakh', '₹6.63 Lakh', '₹5.72 Lakh', '₹3.73 Lakh', '₹4.66 Lakh', '₹9.04 Lakh', '₹3.19 Lakh', '₹3.24 Lakh', '₹2.18 Lakh', '₹3.76 Lakh', '₹5.69 Lakh', '₹3.26 Lakh', '₹6.42 Lakh', '₹6.08 Lakh', '₹3.99 Lakh', '₹4.02 Lakh', '₹4.33 Lakh', '₹3.79 Lakh', '₹6.22 Lakh', '₹4.98 Lakh', '₹7.04 Lakh', '₹4.48 Lakh', '₹5.49 Lakh', '₹5.28 Lakh', '₹6.79 Lakh', '₹3.33 Lakh', '₹3.39 Lakh', '₹6.06 Lakh', '₹7.63 Lakh', '₹5.81 Lakh', '₹2.05 Lakh', '₹6.52 Lakh', '₹4.63 Lakh', '₹3.66 Lakh', '₹6.88 Lakh', '₹6.35 Lakh', '₹5.26 Lakh', '₹2.46 Lakh', '₹6.93 Lakh', '₹4.45 Lakh', '₹2.14 Lakh', '₹6.41 Lakh', '₹7.18 Lakh', '₹7.01 Lakh', '₹2.41 Lakh', '₹1.97 Lakh', '₹3.11 Lakh', '₹4.15 Lakh', '₹3.43 Lakh', '₹8.31 Lakh', '₹3.88 Lakh', '₹7.28 Lakh', '₹4.39 Lakh', '₹4.41 Lakh', '₹5.00 Lakh', '₹4.85 Lakh', '₹5.17 Lakh', '₹3.10 Lakh', '₹3.77 Lakh', '₹4.84 Lakh', '₹8.95 Lakh', '₹9.63 Lakh', '₹3.78 Lakh', '₹5.92 Lakh', '₹3.37 Lakh', '₹3.00 Lakh', '₹6.13 Lakh', '₹5.24 Lakh', '₹6.10 Lakh', '₹5.79 Lakh', '₹10.65 Lakh', '₹7.74 Lakh', '₹5.44 Lakh', '₹2.25 Lakh', '₹6.98 Lakh', '₹8.58 Lakh', '₹4.24 Lakh', '₹7.02 Lakh', '₹12.43 Lakh', '₹8.35 Lakh', '₹3.87 Lakh', '₹5.08 Lakh', '₹9.30 Lakh', '₹4.60 Lakh', '₹5.84 Lakh', '₹6.14 Lakh', '₹4.09 Lakh']\n"
     ]
    }
   ],
   "source": [
    "print(price)"
   ]
  },
  {
   "cell_type": "code",
   "execution_count": 10,
   "id": "f7e28fba",
   "metadata": {},
   "outputs": [
    {
     "name": "stdout",
     "output_type": "stream",
     "text": [
      "[' ₹10,674', ' ₹30,626', ' ₹4,961', ' ₹15,608', ' ₹9,716', ' ₹13,416', ' ₹11,982', ' ₹28,380', ' ₹9,267', ' ₹14,682', ' ₹20,747', ' ₹25,220', ' ₹15,437', ' ₹28,228', ' ₹11,640', ' ₹15,386', ' ₹13,822', ' ₹24,268', ' ₹16,574', ' ₹6,562', ' ₹5,767', ' ₹15,838', ' ₹14,291', ' ₹19,243', ' ₹12,629', ' ₹11,300', ' ₹10,088', ' ₹6,354', ' ₹14,917', ' ₹5,560', ' ₹11,476', ' ₹11,476', ' ₹13,099', ' ₹16,388', ' ₹18,577', ' ₹11,183', ' ₹13,411', ' ₹11,945', ' ₹7,585', ' ₹7,449', ' ₹15,777', ' ₹9,254', ' ₹12,297', ' ₹18,799', ' ₹13,981', ' ₹7,215', ' ₹11,300', ' ₹9,032', ' ₹12,297', ' ₹16,312', ' ₹9,052', ' ₹12,180', ' ₹14,311', ' ₹9,462', ' ₹18,558', ' ₹6,061', ' ₹8,837', ' ₹14,084', ' ₹16,190', ' ₹10,032', ' ₹12,903', ' ₹8,113', ' ₹9,306', ' ₹13,255', ' ₹14,878', ' ₹12,923', ' ₹13,353', ' ₹17,083', ' ₹10,459', ' ₹13,146', ' ₹26,952', ' ₹8,192', ' ₹7,697', ' ₹9,619', ' ₹17,835', ' ₹13,458', ' ₹15,684', ' ₹10,595', ' ₹18,768', ' ₹19,205', ' ₹12,012', ' ₹14,589', ' ₹9,286', ' ₹18,178', ' ₹7,644', ' ₹6,940', ' ₹16,445', ' ₹17,435', ' ₹10,870', ' ₹8,328', ' ₹10,255', ' ₹9,736', ' ₹8,974', ' ₹7,273', ' ₹21,509', ' ₹8,119', ' ₹12,924', ' ₹11,233', ' ₹14,624', ' ₹12,924', ' ₹10,498', ' ₹11,750', ' ₹17,169', ' ₹19,282', ' ₹20,443', ' ₹24,808', ' ₹37,916', ' ₹7,058', ' ₹15,608', ' ₹23,786', ' ₹15,406', ' ₹10,968', ' ₹21,489', ' ₹22,069', ' ₹8,798', ' ₹17,169', ' ₹15,327', ' ₹16,407', ' ₹48,746', ' ₹7,630', ' ₹17,587', ' ₹10,225', ' ₹17,454', ' ₹17,036', ' ₹21,718', ' ₹11,632', ' ₹13,470', ' ₹10,381', ' ₹10,674', ' ₹8,583', ' ₹8,485', ' ₹6,095', ' ₹11,124', ' ₹11,046', ' ₹14,154', ' ₹11,026', ' ₹10,518', ' ₹11,534', ' ₹11,887', ' ₹10,635', ' ₹8,172', ' ₹19,929', ' ₹11,834', ' ₹15,034', ' ₹10,029', ' ₹10,401', ' ₹7,875', ' ₹7,644', ' ₹9,665', ' ₹13,614', ' ₹28,456', ' ₹11,241', ' ₹12,160', ' ₹9,480', ' ₹11,163', ' ₹12,851', ' ₹10,811', ' ₹11,261', ' ₹10,497', ' ₹8,253', ' ₹7,136', ' ₹13,685', ' ₹12,297', ' ₹4,004', ' ₹12,453', ' ₹12,669', ' ₹13,587', ' ₹12,956', ' ₹17,283', ' ₹10,811', ' ₹9,404', ' ₹10,323', ' ₹10,401', ' ₹9,276', ' ₹13,900', ' ₹11,359', ' ₹15,054', ' ₹5,083', ' ₹5,376', ' ₹9,540', ' ₹10,225', ' ₹7,761', ' ₹7,761', ' ₹11,261', ' ₹8,758', ' ₹8,700', ' ₹14,515', ' ₹5,181', ' ₹8,876', ' ₹8,094', ' ₹8,055', ' ₹9,593', ' ₹12,884', ' ₹13,138', ' ₹8,485', ' ₹17,987', ' ₹4,692', ' ₹13,099', ' ₹7,155', ' ₹8,940', ' ₹16,217', ' ₹15,543', ' ₹10,616', ' ₹14,702', ' ₹7,957', ' ₹9,501', ' ₹10,611', ' ₹13,802', ' ₹8,133', ' ₹15,288', ' ₹7,976', ' ₹6,033', ' ₹7,801', ' ₹13,607', ' ₹12,954', ' ₹11,183', ' ₹7,292', ' ₹9,110', ' ₹17,207', ' ₹8,400', ' ₹6,334', ' ₹4,262', ' ₹7,351', ' ₹11,124', ' ₹6,373', ' ₹12,551', ' ₹11,887', ' ₹7,801', ' ₹7,859', ' ₹8,465', ' ₹7,410', ' ₹12,166', ' ₹9,736', ' ₹13,763', ' ₹8,758', ' ₹10,733', ' ₹10,323', ' ₹13,275', ' ₹6,510', ' ₹6,628', ' ₹11,847', ' ₹14,917', ' ₹11,359', ' ₹5,398', ' ₹12,747', ' ₹10,299', ' ₹7,155', ' ₹13,451', ' ₹12,414', ' ₹10,283', ' ₹11,580', ' ₹13,548', ' ₹9,899', ' ₹7,108', ' ₹12,532', ' ₹14,037', ' ₹13,705', ' ₹6,346', ' ₹9,273', ' ₹14,640', ' ₹8,113', ' ₹6,706', ' ₹15,817', ' ₹8,631', ' ₹14,233', ' ₹8,583', ' ₹8,622', ' ₹9,775', ' ₹9,482', ' ₹10,107', ' ₹6,896', ' ₹17,766', ' ₹9,462', ' ₹17,036', ' ₹18,330', ' ₹8,408', ' ₹11,574', ' ₹6,588', ' ₹5,865', ' ₹11,984', ' ₹10,244', ' ₹11,926', ' ₹11,320', ' ₹20,271', ' ₹15,132', ' ₹10,635', ' ₹7,473', ' ₹13,646', ' ₹18,655', ' ₹9,432', ' ₹13,724', ' ₹23,659', ' ₹15,893', ' ₹7,566', ' ₹11,300', ' ₹20,220', ' ₹8,993', ' ₹11,417', ' ₹13,658', ' ₹9,098']\n"
     ]
    }
   ],
   "source": [
    "print(EMI)"
   ]
  },
  {
   "cell_type": "code",
   "execution_count": 11,
   "id": "9a74b8da",
   "metadata": {},
   "outputs": [
    {
     "name": "stdout",
     "output_type": "stream",
     "text": [
      "['Diesel', 'Petrol', 'Petrol', 'Petrol', 'Petrol', 'Petrol', 'Petrol', 'Diesel', 'Petrol', 'Petrol', 'Petrol', 'Petrol', 'Diesel', 'Petrol', 'Petrol', 'Petrol', 'Petrol', 'Petrol', 'Petrol', 'Petrol', 'Petrol', 'Diesel', 'Petrol', 'Petrol', 'CNG', 'Petrol', 'Petrol', 'Petrol', 'Petrol', 'Petrol', 'Petrol', 'Petrol', 'Petrol', 'Petrol', 'Petrol', 'Petrol', 'Petrol', 'Petrol', 'Petrol', 'Petrol', 'Diesel', 'Petrol', 'Petrol', 'CNG', 'Petrol', 'Petrol', 'Petrol', 'Petrol', 'CNG', 'Diesel', 'Petrol', 'CNG', 'Petrol', 'Petrol', 'Petrol', 'Petrol', 'Petrol', 'Petrol', 'Petrol', 'CNG', 'Petrol', 'Petrol', 'Petrol', 'Petrol', 'Petrol', 'Petrol', 'Petrol', 'Petrol', 'Petrol', 'Petrol', 'Petrol', 'Petrol', 'Petrol', 'Petrol', 'Petrol', 'Diesel', 'Petrol', 'Petrol', 'Diesel', 'Petrol', 'Petrol', 'CNG', 'Petrol', 'Petrol', 'CNG', 'Petrol', 'Petrol', 'Petrol', 'Petrol', 'Petrol', 'CNG', 'CNG', 'Petrol', 'Petrol', 'Petrol', 'Petrol', 'Diesel', 'Petrol', 'Petrol', 'Diesel', 'Petrol', 'Petrol', 'Petrol', 'Petrol', 'Petrol', 'Diesel', 'Diesel', 'Petrol', 'CNG', 'Diesel', 'Petrol', 'Petrol', 'Petrol', 'Diesel', 'Petrol', 'Petrol', 'Petrol', 'Petrol', 'Diesel', 'CNG', 'Petrol', 'Petrol', 'Petrol', 'Petrol', 'Petrol', 'Petrol', 'Petrol', 'Petrol', 'Petrol', 'Petrol', 'Petrol', 'Petrol', 'Petrol', 'Petrol', 'Petrol', 'Petrol', 'Petrol', 'Petrol', 'Diesel', 'Petrol', 'Petrol', 'Diesel', 'Petrol', 'Diesel', 'Petrol', 'Petrol', 'Petrol', 'Petrol', 'Petrol', 'Diesel', 'Petrol', 'Petrol', 'Petrol', 'Petrol', 'Petrol', 'Petrol', 'Petrol', 'Petrol', 'Petrol', 'Petrol', 'Petrol', 'Petrol', 'Petrol', 'Petrol', 'CNG', 'CNG', 'CNG', 'Petrol', 'Petrol', 'CNG', 'Petrol', 'Petrol', 'Petrol', 'Petrol', 'Petrol', 'Petrol', 'Petrol', 'Petrol', 'Petrol', 'Petrol', 'Petrol', 'Petrol', 'Petrol', 'Petrol', 'Petrol', 'Petrol', 'Petrol', 'Petrol', 'Petrol', 'Petrol', 'Petrol', 'Petrol', 'Petrol', 'Petrol', 'Petrol', 'Diesel', 'Petrol', 'Petrol', 'Petrol', 'Petrol', 'Diesel', 'Petrol', 'CNG', 'Petrol', 'Petrol', 'Petrol', 'Diesel', 'Petrol', 'Petrol', 'Petrol', 'Petrol', 'Petrol', 'Diesel', 'Diesel', 'Petrol', 'Petrol', 'Petrol', 'Petrol', 'Petrol', 'Petrol', 'Petrol', 'Petrol', 'Petrol', 'Petrol', 'Petrol', 'Petrol', 'Petrol', 'Petrol', 'Petrol', 'Petrol', 'Petrol', 'Petrol', 'Petrol', 'Petrol', 'Petrol', 'Petrol', 'Petrol', 'Petrol', 'Petrol', 'Petrol', 'Petrol', 'Petrol', 'Petrol', 'Petrol', 'Petrol', 'Diesel', 'Petrol', 'Petrol', 'Petrol', 'Petrol', 'Petrol', 'Petrol', 'Petrol', 'Petrol', 'Petrol', 'Petrol', 'Diesel', 'Petrol', 'Petrol', 'Diesel', 'Petrol', 'Petrol', 'Petrol', 'Petrol', 'Petrol', 'Petrol', 'Petrol', 'Petrol', 'Petrol', 'Petrol', 'Diesel', 'Diesel', 'Petrol', 'Diesel', 'Petrol', 'Diesel', 'Petrol', 'Petrol', 'Petrol', 'Petrol', 'Petrol', 'Petrol', 'Petrol', 'Diesel', 'Petrol', 'Petrol', 'Petrol', 'Petrol', 'Petrol', 'Diesel', 'Petrol', 'Petrol', 'Petrol', 'Diesel', 'Diesel', 'Diesel', 'Petrol', 'Petrol', 'Diesel', 'Diesel']\n"
     ]
    }
   ],
   "source": [
    "print(fuel)"
   ]
  },
  {
   "cell_type": "code",
   "execution_count": 12,
   "id": "bd48f199",
   "metadata": {},
   "outputs": [
    {
     "name": "stdout",
     "output_type": "stream",
     "text": [
      "['71,675 ', '15,979 ', '69,639 ', '34,474 ', '29,027 ', '78,152 ', '1,06,215 ', '49,559 ', '16,537 ', '32,596 ', '59,046 ', '11,911 ', '54,392 ', '42,770 ', '61,285 ', '12,634 ', '17,472 ', '11,682 ', '57,242 ', '82,298 ', '59,161 ', '27,603 ', '15,648 ', '10,457 ', '15,950 ', '30,455 ', '29,891 ', '57,902 ', '16,595 ', '39,074 ', '2,971 ', '6,655 ', '12,559 ', '48,008 ', '3,102 ', '18,015 ', '39,254 ', '78,332 ', '54,485 ', '42,867 ', '1,20,050 ', '42,400 ', '61,364 ', '1,11,085 ', '88,820 ', '69,725 ', '83,615 ', '4,296 ', '50,418 ', '47,225 ', '34,771 ', '39,613 ', '66,269 ', '11,341 ', '18,598 ', '55,695 ', '55,248 ', '63,464 ', '70,076 ', '1,09,662 ', '27,924 ', '87,125 ', '69,185 ', '55,605 ', '45,935 ', '33,513 ', '61,102 ', '53,292 ', '34,756 ', '1,05,756 ', '21,204 ', '75,112 ', '50,026 ', '68,070 ', '91,997 ', '1,14,355 ', '19,179 ', '33,263 ', '16,828 ', '23,952 ', '1,10,184 ', '59,786 ', '81,714 ', '18,020 ', '99,508 ', '52,398 ', '4,148 ', '28,610 ', '99,026 ', '13,264 ', '78,605 ', '58,700 ', '60,237 ', '37,682 ', '15,168 ', '1,15,079 ', '95,116 ', '1,23,337 ', '68,377 ', '1,11,848 ', '31,154 ', '19,900 ', '30,719 ', '32,272 ', '51,531 ', '67,168 ', '15,453 ', '24,475 ', '32,318 ', '87,927 ', '14,011 ', '25,973 ', '21,894 ', '72,524 ', '53,062 ', '29,116 ', '67,205 ', '50,309 ', '16,532 ', '1,17,691 ', '56,020 ', '42,419 ', '31,546 ', '39,165 ', '30,938 ', '85,409 ', '28,737 ', '40,608 ', '36,134 ', '8,261 ', '87,242 ', '50,925 ', '70,663 ', '76,899 ', '77,055 ', '91,514 ', '64,871 ', '96,158 ', '95,048 ', '41,522 ', '37,113 ', '96,999 ', '1,01,656 ', '89,916 ', '57,936 ', '41,186 ', '96,964 ', '85,873 ', '71,101 ', '84,719 ', '8,971 ', '24,951 ', '35,241 ', '79,637 ', '40,216 ', '93,524 ', '27,189 ', '30,985 ', '60,320 ', '80,360 ', '51,572 ', '18,382 ', '32,238 ', '44,972 ', '6,799 ', '12,684 ', '49,378 ', '13,103 ', '28,080 ', '17,301 ', '17,329 ', '56,050 ', '2,559 ', '60,416 ', '45,368 ', '67,144 ', '46,306 ', '56,876 ', '41,772 ', '15,517 ', '10,824 ', '29,864 ', '17,009 ', '26,674 ', '47,006 ', '51,630 ', '56,583 ', '64,251 ', '1,02,437 ', '74,436 ', '82,099 ', '90,185 ', '39,484 ', '11,891 ', '48,145 ', '71,057 ', '49,213 ', '63,047 ', '38,839 ', '52,175 ', '66,213 ', '42,038 ', '25,131 ', '33,481 ', '56,943 ', '67,834 ', '86,420 ', '34,127 ', '23,196 ', '49,369 ', '31,561 ', '92,224 ', '89,148 ', '65,800 ', '77,638 ', '62,698 ', '95,981 ', '47,227 ', '44,101 ', '93,357 ', '31,958 ', '11,502 ', '6,820 ', '40,288 ', '37,734 ', '3,268 ', '16,176 ', '13,749 ', '7,278 ', '7,017 ', '13,648 ', '18,139 ', '20,414 ', '27,463 ', '19,469 ', '31,030 ', '40,667 ', '27,288 ', '48,005 ', '18,697 ', '9,985 ', '30,809 ', '63,402 ', '81,062 ', '31,688 ', '91,542 ', '58,886 ', '73,428 ', '37,589 ', '39,551 ', '47,943 ', '41,155 ', '72,617 ', '39,154 ', '47,353 ', '28,435 ', '90,827 ', '58,556 ', '86,080 ', '99,869 ', '32,402 ', '57,031 ', '25,665 ', '32,386 ', '9,017 ', '78,868 ', '22,539 ', '93,616 ', '54,875 ', '87,713 ', '77,735 ', '98,364 ', '29,590 ', '6,761 ', '22,683 ', '81,911 ', '41,808 ', '68,292 ', '8,510 ', '46,576 ', '52,005 ', '60,620 ', '83,011 ', '51,945 ', '39,510 ', '42,669 ', '41,198 ', '53,265 ', '1,00,483 ', '1,09,433 ', '9,456 ', '43,984 ', '11,156 ', '71,323 ', '1,00,239 ', '90,880 ', '28,354 ', '23,360 ', '77,283 ', '1,06,369 ']\n"
     ]
    }
   ],
   "source": [
    "print(no_of_kms_used)"
   ]
  },
  {
   "cell_type": "code",
   "execution_count": 13,
   "id": "bdf7ab64",
   "metadata": {
    "scrolled": true
   },
   "outputs": [
    {
     "name": "stdout",
     "output_type": "stream",
     "text": [
      "['Manual', 'Manual', 'Manual', 'Manual', 'Manual', 'Manual', 'Manual', 'Manual', 'Automatic', 'Automatic', 'Automatic', 'Automatic', 'Automatic', 'Automatic', 'Manual', 'Automatic', 'Manual', 'Automatic', 'Manual', 'Automatic', 'Manual', 'Manual', 'Manual', 'Manual', 'Manual', 'Manual', 'Manual', 'Manual', 'Manual', 'Manual', 'Manual', 'Manual', 'Manual', 'Manual', 'Automatic', 'Manual', 'Manual', 'Manual', 'Manual', 'Manual', 'Manual', 'Manual', 'Automatic', 'Manual', 'Manual', 'Manual', 'Manual', 'Manual', 'Manual', 'Manual', 'Automatic', 'Manual', 'Automatic', 'Manual', 'Manual', 'Manual', 'Manual', 'Automatic', 'Automatic', 'Manual', 'Manual', 'Manual', 'Automatic', 'Manual', 'Manual', 'Automatic', 'Manual', 'Manual', 'Manual', 'Manual', 'Automatic', 'Automatic', 'Manual', 'Manual', 'Manual', 'Manual', 'Manual', 'Manual', 'Manual', 'Automatic', 'Automatic', 'Manual', 'Manual', 'Manual', 'Manual', 'Automatic', 'Manual', 'Manual', 'Manual', 'Manual', 'Manual', 'Automatic', 'Automatic', 'Manual', 'Manual', 'Manual', 'Manual', 'Manual', 'Manual', 'Manual', 'Manual', 'Manual', 'Manual', 'Manual', 'Manual', 'Automatic', 'Automatic', 'Manual', 'Manual', 'Manual', 'Manual', 'Manual', 'Automatic', 'Manual', 'Manual', 'Automatic', 'Manual', 'Manual', 'Automatic', 'Manual', 'Automatic', 'Manual', 'Automatic', 'Manual', 'Automatic', 'Manual', 'Manual', 'Automatic', 'Manual', 'Manual', 'Manual', 'Manual', 'Manual', 'Automatic', 'Manual', 'Automatic', 'Manual', 'Automatic', 'Automatic', 'Automatic', 'Automatic', 'Manual', 'Manual', 'Manual', 'Manual', 'Automatic', 'Manual', 'Automatic', 'Manual', 'Manual', 'Manual', 'Manual', 'Manual', 'Manual', 'Manual', 'Manual', 'Automatic', 'Automatic', 'Manual', 'Manual', 'Manual', 'Manual', 'Manual', 'Manual', 'Manual', 'Manual', 'Manual', 'Manual', 'Automatic', 'Manual', 'Manual', 'Manual', 'Manual', 'Manual', 'Manual', 'Manual', 'Manual', 'Manual', 'Manual', 'Manual', 'Manual', 'Manual', 'Manual', 'Manual', 'Manual', 'Manual', 'Automatic', 'Manual', 'Manual', 'Manual', 'Manual', 'Automatic', 'Manual', 'Manual', 'Manual', 'Manual', 'Manual', 'Manual', 'Manual', 'Manual', 'Manual', 'Manual', 'Manual', 'Manual', 'Manual', 'Manual', 'Manual', 'Manual', 'Manual', 'Manual', 'Manual', 'Manual', 'Manual', 'Manual', 'Manual', 'Manual', 'Manual', 'Manual', 'Manual', 'Manual', 'Manual', 'Manual', 'Manual', 'Manual', 'Manual', 'Manual', 'Manual', 'Manual', 'Manual', 'Manual', 'Manual', 'Manual', 'Manual', 'Manual', 'Automatic', 'Automatic', 'Automatic', 'Manual', 'Manual', 'Manual', 'Manual', 'Manual', 'Manual', 'Manual', 'Manual', 'Manual', 'Manual', 'Manual', 'Manual', 'Manual', 'Manual', 'Manual', 'Manual', 'Manual', 'Manual', 'Manual', 'Manual', 'Manual', 'Manual', 'Manual', 'Manual', 'Manual', 'Manual', 'Manual', 'Manual', 'Manual', 'Manual', 'Manual', 'Manual', 'Manual', 'Manual', 'Manual', 'Manual', 'Manual', 'Manual', 'Manual', 'Manual', 'Manual', 'Automatic', 'Manual', 'Manual', 'Manual', 'Manual', 'Manual', 'Manual', 'Manual', 'Manual', 'Manual', 'Automatic', 'Manual', 'Manual', 'Manual', 'Manual', 'Manual', 'Manual', 'Manual', 'Automatic', 'Manual', 'Manual', 'Manual']\n"
     ]
    }
   ],
   "source": [
    "car_type=['Manual' if item == 'Manua' or item == '' else item for item in car_type]\n",
    "print(car_type)"
   ]
  },
  {
   "cell_type": "code",
   "execution_count": 14,
   "id": "7bf9b999",
   "metadata": {},
   "outputs": [
    {
     "name": "stdout",
     "output_type": "stream",
     "text": [
      "300 \n",
      " 300 \n",
      " 300 \n",
      " 300 \n",
      " 300 \n",
      " 300 \n",
      " 300 \n",
      " 300 \n",
      " 300\n"
     ]
    }
   ],
   "source": [
    "#checking whether the lists contain same number of elements or not \n",
    "print(len(car_name),'\\n',len(car_model_year),'\\n',len(car_company),'\\n',len(location),'\\n',len(price),'\\n',len(EMI),'\\n',len(fuel),'\\n',len(no_of_kms_used),'\\n',len(car_type))"
   ]
  },
  {
   "cell_type": "code",
   "execution_count": 19,
   "id": "2742cd07",
   "metadata": {},
   "outputs": [
    {
     "name": "stdout",
     "output_type": "stream",
     "text": [
      "{'Car Name': ['Tata TIGOR XZ DIESEL', 'Volkswagen TAIGUN TOPLINE 1.0 TSI MT', 'Hyundai Eon ERA +', 'Maruti Baleno ZETA PETROL 1.2', 'Hyundai NEW SANTRO MAGNA', 'Hyundai Santro Xing GL PLUS', 'Maruti Swift Dzire VXI', 'MG HECTOR SHARP 2.0 DIESEL', 'Datsun Redi Go T(O) 1.0 AMT', 'Maruti Baleno DELTA CVT PETROL 1.2', 'Tata NEXON XZA PLUS (O) PETROL DUAL TONE', 'Mahindra XUV300 W8 (O) 1.2 PETROL AMT', 'Honda Amaze 1.5L I-DTEC V CVT', 'Jeep Compass LONGITUDE PLUS 1.4 PETROL AT', 'Hyundai i10 ASTA 1.2', 'Hyundai AURA S 1.2 AMT', 'Hyundai GRAND I10 NIOS SPORTZ 1.2 KAPPA VTVT DUAL TONE', 'Mahindra XUV300 W8 (O) 1.2 PETROL AMT', 'Honda City 1.5L I-VTEC S MT', 'Maruti Alto K10 VXI AMT', 'Maruti Alto K10 VXI', 'Ford Ecosport TITANIUM 1.5L DIESEL', 'Nissan MAGNITE XV RED EDITION', 'Honda City 1.5L I-VTEC V MT 4TH GEN', 'Hyundai AURA S 1.2 CNG', 'Nissan MAGNITE XE', 'Maruti Swift LXI', 'Maruti Wagon R 1.0 VXI', 'Tata ALTROZ XZ PETROL', 'Maruti Alto 800 LXI', 'Tata ALTROZ XE PETROL', 'Nissan MAGNITE XE', 'Honda Amaze 1.2L I-VTEC S', 'Hyundai VENUE SX 1.0 TURBO', 'Maruti Baleno ALPHA 1.2 AGS', 'Maruti IGNIS DELTA 1.2', 'Renault Duster RXE PETROL', 'Honda BR-V 1.5L I-VTEC V', 'Maruti Celerio LXI (O)', 'Tata Tiago XE PETROL', 'Maruti Swift Dzire ZDI', 'Hyundai Xcent S 1.2', 'Skoda Rapid STYLE 1.6 MPI AT', 'Maruti Ertiga VXI CNG', 'Honda City 1.5L I-VTEC V MT', 'Hyundai i10 MAGNA 1.2', 'Honda City 1.5L I-VTEC SV', 'Maruti S PRESSO VXI+', 'Maruti New Wagon-R LXI CNG (O) 1.0', 'Maruti Ertiga ZDI SHVS', 'Maruti S PRESSO VXI PLUS AMT', 'Maruti New Wagon-R LXI CNG (O) 1.0', 'Maruti Ciaz ALPHA  AT 1.5 SHVS PETROL', 'Volkswagen Ameo HIGHLINE1.2L', 'Tata NEXON XZ PLUS PETROL', 'Maruti Wagon R 1.0 VXI', 'Honda Jazz 1.2L I-VTEC V', 'Tata NEXON XZA PLUS PETROL', 'Hyundai Verna 1.6 VTVT SX (O) AT', 'Hyundai Grand i10 SPORTZ 1.2 KAPPA VTVT', 'Maruti Swift VXI', 'Volkswagen Polo COMFORTLINE 1.2L', 'Maruti Celerio VXI AMT (O)', 'Maruti Dzire VXI', 'Tata NEXON XM PETROL', 'Maruti New Wagon-R ZXI 1.2 AMT', 'Tata Tiago XZ PLUS DUAL TONE PETROL', 'Hyundai Verna 1.6 VTVT SX O', 'Maruti Swift Dzire VXI (O)', 'Maruti Ciaz DELTA 1.4 MT PETROL', 'Mahindra Thar LX PETROL HT 4WD AT', 'Maruti Celerio ZXI AMT', 'Maruti Celerio VXI', 'Maruti Celerio ZXI', 'Hyundai Creta SX PLUS 1.6 PETROL', 'Maruti Swift ZDI', 'Tata ALTROZ XZ PLUS PETROL', 'Honda Brio S MT', 'Mahindra Bolero B6 (O)', 'Maruti Vitara Brezza ZXI PLUS AT SHVS', 'Honda City 1.5L I-VTEC SV CVT', 'Hyundai Elite i20 MAGNA 1.2', 'Hyundai Grand i10 ASTA 1.2 KAPPA VTVT', 'Tata NEXON XM PLUS SUNROOF PETROL', 'Hyundai NEW SANTRO SPORTZ MT', 'Maruti Wagon R 1.0 VXI AMT', 'Tata PUNCH CREATIVE  MT', 'Maruti Ciaz ALPHA 1.5 SHVS PETROL', 'Maruti Baleno ALPHA PETROL 1.2', 'Maruti Alto VXI', 'Hyundai Grand i10 MAGNA 1.2 KAPPA VTVT', 'Maruti IGNIS ZETA 1.2 AMT', 'Tata Tiago XZA PETROL', 'Maruti Alto LXI', 'Skoda SLAVIA ACTIVE 1.0L TSI MT', 'Hyundai Grand i10 MAGNA 1.2 KAPPA VTVT', 'Hyundai Verna FLUIDIC 1.6 CRDI S(O) 4S', 'Hyundai Grand i10 SPORTZ 1.2 KAPPA VTVT', 'Hyundai Creta SX PLUS 1.6 PETROL', 'Ford Ecosport TITANIUM 1.5L DIESEL', 'Honda WR-V 1.2L I-VTEC S MT', 'Nissan MAGNITE XE', 'Tata NEXON XZ PLUS PETROL', 'KIA SONET HTK PLUS 1.0 IMT', 'Hyundai Creta SX (O) 1.6 PETROL', 'Hyundai Creta SX AT 1.6 DIESEL', 'Tata Harrier XZA PLUS 2.0L DARK EDITION', 'Renault Kwid RXL', 'Maruti Baleno ALPHA PETROL 1.2', 'Jeep Compass LONGITUDE (O) 2.0 DIESEL', 'Tata PUNCH CREATIVE 1.2 MT KAZIRANGA EDITION ', 'Ford Ecosport AMBIENTE 1.5L PETROL', 'Maruti Ertiga ZXI+ AT SHVS', 'Tata Harrier XZ 2.0L', 'Maruti Swift LXI', 'Toyota URBAN CRUISER MID GRADE AT', 'Skoda Rapid 1.0 AMBITION TSI MT', 'Ford Ecosport TITANIUM 1.5 SPORTS(SUNROOF) PETROL', 'Mahindra XUV700 AX 7 LUXURY D AWD AT 7 STR', 'Maruti Wagon R 1.0 LXI CNG', 'Hyundai Creta SX PLUS AT 1.6 PETROL', 'Maruti Swift Dzire VXI', 'Ford Ecosport TITANIUM + 1.5L PETROL AT', 'Hyundai VENUE SX 1.0 TURBO', 'Toyota URBAN CRUISER PREMIUM GRADE AT', 'Maruti Swift ZXI', 'Renault TRIBER RXZ', 'Tata Tiago XZA PETROL', 'Maruti Celerio ZXI (O)', 'Maruti Alto VXI', 'Honda Amaze 1.2L I-VTEC S', 'Maruti Alto K10 VXI', 'Maruti Swift Dzire VXI (O)', 'Hyundai Grand i10 SPORTZ (O) AT 1.2 KAPPA VTVT', 'Maruti Ciaz ZETA 1.4  MT PETROL', 'Volkswagen Vento HIGHLINE PETROL AT', 'Maruti Baleno DELTA PETROL 1.2', 'Honda City 1.5L I-VTEC S AT', 'Maruti Swift VDI AMT', 'Tata TIGOR XZA PETROL', 'Renault Kwid CLIMBER 1.0 AMT', 'Maruti Swift Dzire ZDI', 'Volkswagen Polo COMFORTLINE 1.0L MPI', 'Maruti Vitara Brezza VDI (O)', 'Maruti New Wagon-R VXI (O) 1.0', 'Maruti IGNIS ZETA 1.2 AMT DUAL TONE', 'Maruti Wagon R Stingray VXI', 'Maruti Wagon R 1.0 VXI AMT', 'Maruti Wagon R 1.0 LXI', 'Mahindra XUV500 W4', 'Hyundai Creta SX 1.5 PETROL', 'Nissan MAGNITE XE', 'Maruti Baleno DELTA PETROL 1.2', 'Maruti Swift VXI', 'Maruti Dzire VXI', 'Toyota Etios G', 'Maruti IGNIS ZETA 1.2 AMT', 'Hyundai Grand i10 SPORTZ AT 1.2 KAPPA VTVT', 'Hyundai i10 MAGNA 1.2', 'Maruti Wagon R Stingray VXI', 'Renault Kwid RXL', 'Tata NEXON XM PETROL', 'Maruti New Wagon-R ZXI 1.2', 'Hyundai Eon ERA +', 'Maruti New Wagon-R LXI CNG 1.0', 'Maruti New Wagon-R LXI CNG 1.0', 'Hyundai AURA S 1.2 CNG', 'Maruti New Wagon-R ZXI 1.2', 'Ford Ecosport TITANIUM + 1.5L PETROL AT', 'Maruti New Wagon-R LXI CNG (O) 1.0', 'Hyundai Grand i10 SPORTZ 1.2 KAPPA VTVT', 'Maruti Ciaz VXI', 'Renault Kwid RXT 1.0', 'Hyundai Elite i20 MAGNA 1.2', 'Hyundai Creta BASE 1.6 PETROL', 'Honda City 1.5L I-VTEC V MT', 'Maruti Ciaz SIGMA 1.5 SHVS MT  PETROL', 'Maruti Alto 800 LXI', 'Honda Brio E MT', 'Renault Kwid CLIMBER 1.0 (O)', 'Maruti Swift VXI O', 'Maruti Alto VXI', 'Maruti Alto VXI', 'Maruti Baleno DELTA PETROL 1.2', 'Maruti S PRESSO VXI', 'Maruti Swift Dzire ZXI', 'Honda Civic 1.8L I-VTEC V AT SUNROOF', 'Maruti Alto K10 VXI', 'Maruti Swift VXI', 'Maruti Celerio VXI (O)', 'Maruti IGNIS ZETA 1.2', 'Maruti IGNIS ZETA 1.2 AMT', 'Honda Amaze 1.2L I-VTEC S', 'Maruti Baleno ZETA PETROL 1.2', 'Maruti Baleno DELTA PETROL 1.2', 'Hyundai Verna S PLUS 1.5 CRDI', 'Maruti Alto 800 LXI', 'Hyundai Elite i20 SPORTZ PLUS 1.2', 'Maruti Alto VXI', 'Maruti Swift VXI O', 'Ford Ecosport TITANIUM 1.5L DIESEL', 'Maruti Baleno ZETA PETROL 1.2', 'Maruti Alto K10 VXI CNG', 'Tata NEXON XM PETROL', 'Renault Kwid RXT 0.8', 'Hyundai Elite i20 SPORTZ 1.2', 'Maruti Swift Dzire VDI ABS', 'Maruti Vitara Brezza VXI', 'Mahindra KUV 100 NXT K4+ P 6 STR', 'Hyundai Verna 1.6 VTVT SX', 'Renault Kwid RXT 1.0 (O)', 'Maruti Alto K10 VXI', 'Honda Jazz 1.5L I-DTEC VX', 'Maruti Ertiga VDI SHVS', 'Hyundai Creta SX PLUS 1.6 PETROL', 'Hyundai GRAND I10 NIOS ASTA 1.2 KAPPA VTVT', 'Honda Amaze 1.2L I-VTEC S', 'Hyundai Grand i10 ASTA 1.2 KAPPA VTVT', 'Hyundai Verna S PLUS 1.5 VTVT', 'Maruti Swift LXI', 'Datsun Redi Go A', 'Maruti Alto 800 VXI', 'Maruti Alto LXI', 'Hyundai Elite i20 ASTA 1.2 DUAL TONE', 'Tata Tiago XE PETROL', 'Nissan MAGNITE XL', 'Maruti New Wagon-R ZXI 1.2', 'Renault Kwid RXT 1.0 (O)', 'Maruti Alto LXI O', 'Renault Kwid RXT 0.8', 'Renault Kwid RXT 0.8', 'Honda City 1.5L I-VTEC V MT', 'Tata NEXON XM PETROL', 'Skoda Rapid AMBITION 1.6 MPI MT', 'Maruti IGNIS DELTA 1.2 AMT', 'Honda Jazz 1.2L I-VTEC V CVT', 'Maruti Baleno DELTA CVT PETROL 1.2', 'Hyundai VENUE S 1.2', 'Mahindra KUV 100 NXT K4+ P 6 STR', 'Maruti Alto VXI', 'Tata Tiago XT PETROL', 'Honda Jazz 1.2L I-VTEC V', 'Honda Amaze 1.2L I-VTEC S', 'Maruti Alto 800 LXI', 'Renault TRIBER RXL MT', 'Renault Duster 85 PS RXE DIESEL', 'Renault Kwid RXT 1.0 (O)', 'Ford Ecosport TITANIUM 1.5L SIGNATURE EDITION (SUNROOF) PETROL', 'Hyundai Elite i20 ASTA 1.2 (O)', 'Tata Tiago XT PETROL', 'Hyundai i10 MAGNA 1.2', 'Nissan MAGNITE XL', 'Maruti Swift Dzire VXI', 'Hyundai i10 ERA 1.1', 'Hyundai AURA SX 1.2', 'Hyundai Elite i20 SPORTZ PLUS 1.2', 'Maruti Ertiga VDI SHVS', 'Maruti Alto 800 LXI', 'Maruti Alto K10 VXI', 'Maruti Ritz VDI', 'Renault Kwid RXL', 'Maruti Alto K10 VXI', 'Hyundai Verna 1.4 EX PETROL', 'Maruti Swift VXI', 'Hyundai AURA SX 1.2', 'Honda Amaze 1.2L I-VTEC S', 'Hyundai NEW SANTRO SPORTZ MT', 'Maruti Baleno DELTA PETROL 1.2', 'Hyundai Grand i10 SPORTZ 1.2 KAPPA VTVT DUAL TONE', 'Ford Ecosport TREND+ 1.0L ECOBOOST', 'Maruti Ritz VDI', 'Hyundai Verna FLUIDIC 1.6 CRDI SX', 'Maruti New Wagon-R VXI (O) 1.2', 'Mahindra Bolero B4', 'Hyundai VENUE SX 1.0 TURBO', 'Toyota Etios CROSS 1.4 VD', 'Honda Amaze 1.2L I-VTEC VX', 'Maruti Wagon R 1.0 VXI', 'Datsun Redi Go T(O) 1.0 AMT', 'Maruti Baleno ALPHA PETROL 1.2', 'Maruti Baleno DELTA PETROL 1.2', 'Honda WR-V 1.2L I-VTEC VX MT', 'Maruti Dzire ZXI PLUS', 'Hyundai Creta SX 1.6 DIESEL', 'Skoda Rapid AMBITION 1.6 MPI MT', 'Maruti Swift VXI', 'Hyundai i10 MAGNA 1.2', 'Nissan MAGNITE XV MT', 'Honda City 1.5L I-VTEC ZX CVT', 'Ford Ecosport TREND 1.5L DIESEL', 'Tata ALTROZ XM PLUS PETROL', 'KIA SELTOS HTX ANNIVERSARY EDITION 1.5 PETROL', 'Maruti Vitara Brezza VXI', 'Mahindra Kuv100 K6 PLUS D 6 STR', 'Ford Ecosport TITANIUM 1.5L DIESEL', 'Toyota Innova 2.5 VX 8 STR', 'Maruti S PRESSO VXI PLUS AMT', 'Tata TIGOR XZ PLUS PETROL', 'Hyundai Creta S 1.4 DIESEL', 'Honda City 1.5L I-DTEC E'], 'Car Model Year': ['2018', '2022', '2014', '2022', '2020', '2011', '2013', '2019', '2020', '2021', '2020', '2022', '2019', '2018', '2013', '2021', '2020', '2022', '2012', '2014', '2018', '2019', '2022', '2022', '2022', '2021', '2020', '2016', '2023', '2018', '2022', '2021', '2022', '2019', '2022', '2022', '2019', '2016', '2020', '2018', '2013', '2014', '2017', '2014', '2011', '2013', '2016', '2019', '2021', '2018', '2020', '2021', '2019', '2016', '2022', '2015', '2017', '2018', '2017', '2017', '2022', '2016', '2018', '2020', '2020', '2021', '2020', '2019', '2016', '2017', '2021', '2015', '2014', '2019', '2017', '2018', '2022', '2012', '2022', '2021', '2015', '2015', '2015', '2023', '2018', '2016', '2023', '2021', '2017', '2022', '2016', '2017', '2018', '2019', '2023', '2014', '2015', '2017', '2015', '2017', '2017', '2022', '2022', '2022', '2018', '2019', '2023', '2021', '2022', '2019', '2022', '2017', '2022', '2019', '2018', '2021', '2021', '2020', '2022', '2017', '2016', '2015', '2020', '2021', '2022', '2017', '2020', '2018', '2020', '2022', '2015', '2014', '2016', '2017', '2017', '2015', '2016', '2013', '2018', '2018', '2018', '2013', '2018', '2017', '2019', '2017', '2014', '2016', '2012', '2015', '2022', '2022', '2017', '2013', '2018', '2011', '2018', '2019', '2011', '2014', '2021', '2019', '2022', '2014', '2022', '2023', '2020', '2022', '2019', '2019', '2018', '2015', '2023', '2014', '2016', '2015', '2021', '2016', '2015', '2022', '2017', '2020', '2020', '2018', '2021', '2015', '2012', '2017', '2016', '2018', '2018', '2018', '2019', '2021', '2015', '2020', '2017', '2019', '2021', '2017', '2020', '2022', '2022', '2021', '2019', '2016', '2015', '2021', '2018', '2019', '2021', '2018', '2016', '2016', '2015', '2020', '2015', '2015', '2021', '2013', '2020', '2016', '2021', '2018', '2018', '2023', '2022', '2021', '2022', '2021', '2020', '2017', '2019', '2019', '2019', '2018', '2018', '2021', '2017', '2020', '2022', '2021', '2018', '2013', '2022', '2015', '2018', '2018', '2017', '2021', '2011', '2022', '2014', '2012', '2020', '2020', '2016', '2013', '2011', '2012', '2020', '2018', '2019', '2014', '2020', '2017', '2018', '2016', '2018', '2017', '2015', '2012', '2019', '2023', '2021', '2015', '2019', '2016', '2018', '2018', '2018', '2017', '2018', '2018', '2019', '2018', '2012', '2021', '2018', '2017', '2022', '2021', '2021', '2017', '2016', '2015', '2020', '2020', '2015', '2015'], 'Car Company': ['Tata', 'Volkswagen', 'Hyundai', 'Maruti', 'Hyundai', 'Hyundai', 'Maruti', 'MG', 'Datsun', 'Maruti', 'Tata', 'Mahindra', 'Honda', 'Jeep', 'Hyundai', 'Hyundai', 'Hyundai', 'Mahindra', 'Honda', 'Maruti', 'Maruti', 'Ford', 'Nissan', 'Honda', 'Hyundai', 'Nissan', 'Maruti', 'Maruti', 'Tata', 'Maruti', 'Tata', 'Nissan', 'Honda', 'Hyundai', 'Maruti', 'Maruti', 'Renault', 'Honda', 'Maruti', 'Tata', 'Maruti', 'Hyundai', 'Skoda', 'Maruti', 'Honda', 'Hyundai', 'Honda', 'Maruti', 'Maruti', 'Maruti', 'Maruti', 'Maruti', 'Maruti', 'Volkswagen', 'Tata', 'Maruti', 'Honda', 'Tata', 'Hyundai', 'Hyundai', 'Maruti', 'Volkswagen', 'Maruti', 'Maruti', 'Tata', 'Maruti', 'Tata', 'Hyundai', 'Maruti', 'Maruti', 'Mahindra', 'Maruti', 'Maruti', 'Maruti', 'Hyundai', 'Maruti', 'Tata', 'Honda', 'Mahindra', 'Maruti', 'Honda', 'Hyundai', 'Hyundai', 'Tata', 'Hyundai', 'Maruti', 'Tata', 'Maruti', 'Maruti', 'Maruti', 'Hyundai', 'Maruti', 'Tata', 'Maruti', 'Skoda', 'Hyundai', 'Hyundai', 'Hyundai', 'Hyundai', 'Ford', 'Honda', 'Nissan', 'Tata', 'KIA', 'Hyundai', 'Hyundai', 'Tata', 'Renault', 'Maruti', 'Jeep', 'Tata', 'Ford', 'Maruti', 'Tata', 'Maruti', 'Toyota', 'Skoda', 'Ford', 'Mahindra', 'Maruti', 'Hyundai', 'Maruti', 'Ford', 'Hyundai', 'Toyota', 'Maruti', 'Renault', 'Tata', 'Maruti', 'Maruti', 'Honda', 'Maruti', 'Maruti', 'Hyundai', 'Maruti', 'Volkswagen', 'Maruti', 'Honda', 'Maruti', 'Tata', 'Renault', 'Maruti', 'Volkswagen', 'Maruti', 'Maruti', 'Maruti', 'Maruti', 'Maruti', 'Maruti', 'Mahindra', 'Hyundai', 'Nissan', 'Maruti', 'Maruti', 'Maruti', 'Toyota', 'Maruti', 'Hyundai', 'Hyundai', 'Maruti', 'Renault', 'Tata', 'Maruti', 'Hyundai', 'Maruti', 'Maruti', 'Hyundai', 'Maruti', 'Ford', 'Maruti', 'Hyundai', 'Maruti', 'Renault', 'Hyundai', 'Hyundai', 'Honda', 'Maruti', 'Maruti', 'Honda', 'Renault', 'Maruti', 'Maruti', 'Maruti', 'Maruti', 'Maruti', 'Maruti', 'Honda', 'Maruti', 'Maruti', 'Maruti', 'Maruti', 'Maruti', 'Honda', 'Maruti', 'Maruti', 'Hyundai', 'Maruti', 'Hyundai', 'Maruti', 'Maruti', 'Ford', 'Maruti', 'Maruti', 'Tata', 'Renault', 'Hyundai', 'Maruti', 'Maruti', 'Mahindra', 'Hyundai', 'Renault', 'Maruti', 'Honda', 'Maruti', 'Hyundai', 'Hyundai', 'Honda', 'Hyundai', 'Hyundai', 'Maruti', 'Datsun', 'Maruti', 'Maruti', 'Hyundai', 'Tata', 'Nissan', 'Maruti', 'Renault', 'Maruti', 'Renault', 'Renault', 'Honda', 'Tata', 'Skoda', 'Maruti', 'Honda', 'Maruti', 'Hyundai', 'Mahindra', 'Maruti', 'Tata', 'Honda', 'Honda', 'Maruti', 'Renault', 'Renault', 'Renault', 'Ford', 'Hyundai', 'Tata', 'Hyundai', 'Nissan', 'Maruti', 'Hyundai', 'Hyundai', 'Hyundai', 'Maruti', 'Maruti', 'Maruti', 'Maruti', 'Renault', 'Maruti', 'Hyundai', 'Maruti', 'Hyundai', 'Honda', 'Hyundai', 'Maruti', 'Hyundai', 'Ford', 'Maruti', 'Hyundai', 'Maruti', 'Mahindra', 'Hyundai', 'Toyota', 'Honda', 'Maruti', 'Datsun', 'Maruti', 'Maruti', 'Honda', 'Maruti', 'Hyundai', 'Skoda', 'Maruti', 'Hyundai', 'Nissan', 'Honda', 'Ford', 'Tata', 'KIA', 'Maruti', 'Mahindra', 'Ford', 'Toyota', 'Maruti', 'Tata', 'Hyundai', 'Honda'], 'Location': ['bangalore', 'bangalore', 'bangalore', 'bangalore', 'bangalore', 'bangalore', 'bangalore', 'bangalore', 'bangalore', 'bangalore', 'bangalore', 'bangalore', 'bangalore', 'bangalore', 'bangalore', 'bangalore', 'bangalore', 'bangalore', 'bangalore', 'bangalore', 'new-delhi', 'new-delhi', 'new-delhi', 'new-delhi', 'new-delhi', 'new-delhi', 'new-delhi', 'new-delhi', 'new-delhi', 'new-delhi', 'new-delhi', 'new-delhi', 'new-delhi', 'new-delhi', 'new-delhi', 'new-delhi', 'new-delhi', 'new-delhi', 'new-delhi', 'new-delhi', 'mumbai', 'mumbai', 'mumbai', 'mumbai', 'mumbai', 'mumbai', 'mumbai', 'mumbai', 'mumbai', 'mumbai', 'mumbai', 'mumbai', 'mumbai', 'mumbai', 'mumbai', 'mumbai', 'mumbai', 'mumbai', 'mumbai', 'mumbai', 'hyderabad', 'hyderabad', 'hyderabad', 'hyderabad', 'hyderabad', 'hyderabad', 'hyderabad', 'hyderabad', 'hyderabad', 'hyderabad', 'hyderabad', 'hyderabad', 'hyderabad', 'hyderabad', 'hyderabad', 'hyderabad', 'hyderabad', 'hyderabad', 'hyderabad', 'hyderabad', 'ahmedabad', 'ahmedabad', 'ahmedabad', 'ahmedabad', 'ahmedabad', 'ahmedabad', 'ahmedabad', 'ahmedabad', 'ahmedabad', 'ahmedabad', 'ahmedabad', 'ahmedabad', 'ahmedabad', 'ahmedabad', 'ahmedabad', 'ahmedabad', 'ahmedabad', 'ahmedabad', 'ahmedabad', 'ahmedabad', 'gurgaon', 'gurgaon', 'gurgaon', 'gurgaon', 'gurgaon', 'gurgaon', 'gurgaon', 'gurgaon', 'gurgaon', 'gurgaon', 'gurgaon', 'gurgaon', 'gurgaon', 'gurgaon', 'gurgaon', 'gurgaon', 'gurgaon', 'gurgaon', 'gurgaon', 'gurgaon', 'chennai', 'chennai', 'chennai', 'chennai', 'chennai', 'chennai', 'chennai', 'chennai', 'chennai', 'chennai', 'chennai', 'chennai', 'chennai', 'chennai', 'chennai', 'chennai', 'chennai', 'chennai', 'chennai', 'chennai', 'pune', 'pune', 'pune', 'pune', 'pune', 'pune', 'pune', 'pune', 'pune', 'pune', 'pune', 'pune', 'pune', 'pune', 'pune', 'pune', 'pune', 'pune', 'pune', 'pune', 'noida', 'noida', 'noida', 'noida', 'noida', 'noida', 'noida', 'noida', 'noida', 'noida', 'noida', 'noida', 'noida', 'noida', 'noida', 'noida', 'noida', 'noida', 'noida', 'noida', 'lucknow', 'lucknow', 'lucknow', 'lucknow', 'lucknow', 'lucknow', 'lucknow', 'lucknow', 'lucknow', 'lucknow', 'lucknow', 'lucknow', 'lucknow', 'lucknow', 'lucknow', 'lucknow', 'lucknow', 'lucknow', 'lucknow', 'lucknow', 'jaipur', 'jaipur', 'jaipur', 'jaipur', 'jaipur', 'jaipur', 'jaipur', 'jaipur', 'jaipur', 'jaipur', 'jaipur', 'jaipur', 'jaipur', 'jaipur', 'jaipur', 'jaipur', 'jaipur', 'jaipur', 'jaipur', 'jaipur', 'kolkata', 'kolkata', 'kolkata', 'kolkata', 'kolkata', 'kolkata', 'kolkata', 'kolkata', 'kolkata', 'kolkata', 'kolkata', 'kolkata', 'kolkata', 'kolkata', 'kolkata', 'kolkata', 'kolkata', 'kolkata', 'kolkata', 'kolkata', 'kochi', 'kochi', 'kochi', 'kochi', 'kochi', 'kochi', 'kochi', 'kochi', 'kochi', 'kochi', 'kochi', 'kochi', 'kochi', 'kochi', 'kochi', 'kochi', 'kochi', 'kochi', 'kochi', 'kochi', 'indore', 'indore', 'indore', 'indore', 'indore', 'indore', 'indore', 'indore', 'indore', 'indore', 'indore', 'indore', 'indore', 'indore', 'indore', 'indore', 'indore', 'indore', 'indore', 'indore', 'chandigarh', 'chandigarh', 'chandigarh', 'chandigarh', 'chandigarh', 'chandigarh', 'chandigarh', 'chandigarh', 'chandigarh', 'chandigarh', 'chandigarh', 'chandigarh', 'chandigarh', 'chandigarh', 'chandigarh', 'chandigarh', 'chandigarh', 'chandigarh', 'chandigarh', 'chandigarh'], 'Price': ['₹5.46 Lakh', '₹16.09 Lakh', '₹2.23 Lakh', '₹8.20 Lakh', '₹4.97 Lakh', '₹2.85 Lakh', '₹4.55 Lakh', '₹14.91 Lakh', '₹4.74 Lakh', '₹7.51 Lakh', '₹10.90 Lakh', '₹13.25 Lakh', '₹8.11 Lakh', '₹14.83 Lakh', '₹4.42 Lakh', '₹7.87 Lakh', '₹7.07 Lakh', '₹12.75 Lakh', '₹4.99 Lakh', '₹2.95 Lakh', '₹2.95 Lakh', '₹7.12 Lakh', '₹7.31 Lakh', '₹10.11 Lakh', '₹6.46 Lakh', '₹5.78 Lakh', '₹5.16 Lakh', '₹3.25 Lakh', '₹7.63 Lakh', '₹2.84 Lakh', '₹5.87 Lakh', '₹5.87 Lakh', '₹6.70 Lakh', '₹8.61 Lakh', '₹9.76 Lakh', '₹5.72 Lakh', '₹6.86 Lakh', '₹6.11 Lakh', '₹3.88 Lakh', '₹3.81 Lakh', '₹4.75 Lakh', '₹4.16 Lakh', '₹6.29 Lakh', '₹5.66 Lakh', '₹2.97 Lakh', '₹2.74 Lakh', '₹5.78 Lakh', '₹4.62 Lakh', '₹6.29 Lakh', '₹8.57 Lakh', '₹4.63 Lakh', '₹6.23 Lakh', '₹7.32 Lakh', '₹4.84 Lakh', '₹9.75 Lakh', '₹3.10 Lakh', '₹4.52 Lakh', '₹7.20 Lakh', '₹8.51 Lakh', '₹4.51 Lakh', '₹6.60 Lakh', '₹4.15 Lakh', '₹4.76 Lakh', '₹6.78 Lakh', '₹7.61 Lakh', '₹6.61 Lakh', '₹6.83 Lakh', '₹8.97 Lakh', '₹5.35 Lakh', '₹5.91 Lakh', '₹14.16 Lakh', '₹4.19 Lakh', '₹3.46 Lakh', '₹4.92 Lakh', '₹9.37 Lakh', '₹6.05 Lakh', '₹8.24 Lakh', '₹3.19 Lakh', '₹9.86 Lakh', '₹10.09 Lakh', '₹5.40 Lakh', '₹5.54 Lakh', '₹4.75 Lakh', '₹9.55 Lakh', '₹3.91 Lakh', '₹3.55 Lakh', '₹8.64 Lakh', '₹9.16 Lakh', '₹5.56 Lakh', '₹4.26 Lakh', '₹4.61 Lakh', '₹4.98 Lakh', '₹4.59 Lakh', '₹3.72 Lakh', '₹11.30 Lakh', '₹3.65 Lakh', '₹5.81 Lakh', '₹5.05 Lakh', '₹7.48 Lakh', '₹5.81 Lakh', '₹5.37 Lakh', '₹6.01 Lakh', '₹9.02 Lakh', '₹10.13 Lakh', '₹10.74 Lakh', '₹11.41 Lakh', '₹19.92 Lakh', '₹3.61 Lakh', '₹8.20 Lakh', '₹10.94 Lakh', '₹7.88 Lakh', '₹5.61 Lakh', '₹11.29 Lakh', '₹10.15 Lakh', '₹4.50 Lakh', '₹9.02 Lakh', '₹7.84 Lakh', '₹8.62 Lakh', '₹25.61 Lakh', '₹3.43 Lakh', '₹9.24 Lakh', '₹5.23 Lakh', '₹9.17 Lakh', '₹8.95 Lakh', '₹11.41 Lakh', '₹5.95 Lakh', '₹6.89 Lakh', '₹5.31 Lakh', '₹5.46 Lakh', '₹4.39 Lakh', '₹4.34 Lakh', '₹2.74 Lakh', '₹5.69 Lakh', '₹5.65 Lakh', '₹7.24 Lakh', '₹5.64 Lakh', '₹5.38 Lakh', '₹4.38 Lakh', '₹6.08 Lakh', '₹5.44 Lakh', '₹4.18 Lakh', '₹6.00 Lakh', '₹5.32 Lakh', '₹7.69 Lakh', '₹5.13 Lakh', '₹5.32 Lakh', '₹3.54 Lakh', '₹3.91 Lakh', '₹2.91 Lakh', '₹6.12 Lakh', '₹14.95 Lakh', '₹5.75 Lakh', '₹6.22 Lakh', '₹3.60 Lakh', '₹5.71 Lakh', '₹2.73 Lakh', '₹5.53 Lakh', '₹5.76 Lakh', '₹2.23 Lakh', '₹3.71 Lakh', '₹3.65 Lakh', '₹7.00 Lakh', '₹6.29 Lakh', '₹1.80 Lakh', '₹6.37 Lakh', '₹6.48 Lakh', '₹6.95 Lakh', '₹6.63 Lakh', '₹9.08 Lakh', '₹5.53 Lakh', '₹4.81 Lakh', '₹5.28 Lakh', '₹5.32 Lakh', '₹4.17 Lakh', '₹7.11 Lakh', '₹5.81 Lakh', '₹7.70 Lakh', '₹2.60 Lakh', '₹2.75 Lakh', '₹4.88 Lakh', '₹5.23 Lakh', '₹3.97 Lakh', '₹3.97 Lakh', '₹5.76 Lakh', '₹4.48 Lakh', '₹4.45 Lakh', '₹4.37 Lakh', '₹2.65 Lakh', '₹3.99 Lakh', '₹4.14 Lakh', '₹4.12 Lakh', '₹4.91 Lakh', '₹6.59 Lakh', '₹6.72 Lakh', '₹4.34 Lakh', '₹9.45 Lakh', '₹2.40 Lakh', '₹6.70 Lakh', '₹3.66 Lakh', '₹4.57 Lakh', '₹8.52 Lakh', '₹8.17 Lakh', '₹5.43 Lakh', '₹7.52 Lakh', '₹4.07 Lakh', '₹4.86 Lakh', '₹4.77 Lakh', '₹7.06 Lakh', '₹4.16 Lakh', '₹7.82 Lakh', '₹4.08 Lakh', '₹3.09 Lakh', '₹3.99 Lakh', '₹6.96 Lakh', '₹6.63 Lakh', '₹5.72 Lakh', '₹3.73 Lakh', '₹4.66 Lakh', '₹9.04 Lakh', '₹3.19 Lakh', '₹3.24 Lakh', '₹2.18 Lakh', '₹3.76 Lakh', '₹5.69 Lakh', '₹3.26 Lakh', '₹6.42 Lakh', '₹6.08 Lakh', '₹3.99 Lakh', '₹4.02 Lakh', '₹4.33 Lakh', '₹3.79 Lakh', '₹6.22 Lakh', '₹4.98 Lakh', '₹7.04 Lakh', '₹4.48 Lakh', '₹5.49 Lakh', '₹5.28 Lakh', '₹6.79 Lakh', '₹3.33 Lakh', '₹3.39 Lakh', '₹6.06 Lakh', '₹7.63 Lakh', '₹5.81 Lakh', '₹2.05 Lakh', '₹6.52 Lakh', '₹4.63 Lakh', '₹3.66 Lakh', '₹6.88 Lakh', '₹6.35 Lakh', '₹5.26 Lakh', '₹2.46 Lakh', '₹6.93 Lakh', '₹4.45 Lakh', '₹2.14 Lakh', '₹6.41 Lakh', '₹7.18 Lakh', '₹7.01 Lakh', '₹2.41 Lakh', '₹1.97 Lakh', '₹3.11 Lakh', '₹4.15 Lakh', '₹3.43 Lakh', '₹8.31 Lakh', '₹3.88 Lakh', '₹7.28 Lakh', '₹4.39 Lakh', '₹4.41 Lakh', '₹5.00 Lakh', '₹4.85 Lakh', '₹5.17 Lakh', '₹3.10 Lakh', '₹3.77 Lakh', '₹4.84 Lakh', '₹8.95 Lakh', '₹9.63 Lakh', '₹3.78 Lakh', '₹5.92 Lakh', '₹3.37 Lakh', '₹3.00 Lakh', '₹6.13 Lakh', '₹5.24 Lakh', '₹6.10 Lakh', '₹5.79 Lakh', '₹10.65 Lakh', '₹7.74 Lakh', '₹5.44 Lakh', '₹2.25 Lakh', '₹6.98 Lakh', '₹8.58 Lakh', '₹4.24 Lakh', '₹7.02 Lakh', '₹12.43 Lakh', '₹8.35 Lakh', '₹3.87 Lakh', '₹5.08 Lakh', '₹9.30 Lakh', '₹4.60 Lakh', '₹5.84 Lakh', '₹6.14 Lakh', '₹4.09 Lakh'], 'Monthly EMI': [' ₹10,674', ' ₹30,626', ' ₹4,961', ' ₹15,608', ' ₹9,716', ' ₹13,416', ' ₹11,982', ' ₹28,380', ' ₹9,267', ' ₹14,682', ' ₹20,747', ' ₹25,220', ' ₹15,437', ' ₹28,228', ' ₹11,640', ' ₹15,386', ' ₹13,822', ' ₹24,268', ' ₹16,574', ' ₹6,562', ' ₹5,767', ' ₹15,838', ' ₹14,291', ' ₹19,243', ' ₹12,629', ' ₹11,300', ' ₹10,088', ' ₹6,354', ' ₹14,917', ' ₹5,560', ' ₹11,476', ' ₹11,476', ' ₹13,099', ' ₹16,388', ' ₹18,577', ' ₹11,183', ' ₹13,411', ' ₹11,945', ' ₹7,585', ' ₹7,449', ' ₹15,777', ' ₹9,254', ' ₹12,297', ' ₹18,799', ' ₹13,981', ' ₹7,215', ' ₹11,300', ' ₹9,032', ' ₹12,297', ' ₹16,312', ' ₹9,052', ' ₹12,180', ' ₹14,311', ' ₹9,462', ' ₹18,558', ' ₹6,061', ' ₹8,837', ' ₹14,084', ' ₹16,190', ' ₹10,032', ' ₹12,903', ' ₹8,113', ' ₹9,306', ' ₹13,255', ' ₹14,878', ' ₹12,923', ' ₹13,353', ' ₹17,083', ' ₹10,459', ' ₹13,146', ' ₹26,952', ' ₹8,192', ' ₹7,697', ' ₹9,619', ' ₹17,835', ' ₹13,458', ' ₹15,684', ' ₹10,595', ' ₹18,768', ' ₹19,205', ' ₹12,012', ' ₹14,589', ' ₹9,286', ' ₹18,178', ' ₹7,644', ' ₹6,940', ' ₹16,445', ' ₹17,435', ' ₹10,870', ' ₹8,328', ' ₹10,255', ' ₹9,736', ' ₹8,974', ' ₹7,273', ' ₹21,509', ' ₹8,119', ' ₹12,924', ' ₹11,233', ' ₹14,624', ' ₹12,924', ' ₹10,498', ' ₹11,750', ' ₹17,169', ' ₹19,282', ' ₹20,443', ' ₹24,808', ' ₹37,916', ' ₹7,058', ' ₹15,608', ' ₹23,786', ' ₹15,406', ' ₹10,968', ' ₹21,489', ' ₹22,069', ' ₹8,798', ' ₹17,169', ' ₹15,327', ' ₹16,407', ' ₹48,746', ' ₹7,630', ' ₹17,587', ' ₹10,225', ' ₹17,454', ' ₹17,036', ' ₹21,718', ' ₹11,632', ' ₹13,470', ' ₹10,381', ' ₹10,674', ' ₹8,583', ' ₹8,485', ' ₹6,095', ' ₹11,124', ' ₹11,046', ' ₹14,154', ' ₹11,026', ' ₹10,518', ' ₹11,534', ' ₹11,887', ' ₹10,635', ' ₹8,172', ' ₹19,929', ' ₹11,834', ' ₹15,034', ' ₹10,029', ' ₹10,401', ' ₹7,875', ' ₹7,644', ' ₹9,665', ' ₹13,614', ' ₹28,456', ' ₹11,241', ' ₹12,160', ' ₹9,480', ' ₹11,163', ' ₹12,851', ' ₹10,811', ' ₹11,261', ' ₹10,497', ' ₹8,253', ' ₹7,136', ' ₹13,685', ' ₹12,297', ' ₹4,004', ' ₹12,453', ' ₹12,669', ' ₹13,587', ' ₹12,956', ' ₹17,283', ' ₹10,811', ' ₹9,404', ' ₹10,323', ' ₹10,401', ' ₹9,276', ' ₹13,900', ' ₹11,359', ' ₹15,054', ' ₹5,083', ' ₹5,376', ' ₹9,540', ' ₹10,225', ' ₹7,761', ' ₹7,761', ' ₹11,261', ' ₹8,758', ' ₹8,700', ' ₹14,515', ' ₹5,181', ' ₹8,876', ' ₹8,094', ' ₹8,055', ' ₹9,593', ' ₹12,884', ' ₹13,138', ' ₹8,485', ' ₹17,987', ' ₹4,692', ' ₹13,099', ' ₹7,155', ' ₹8,940', ' ₹16,217', ' ₹15,543', ' ₹10,616', ' ₹14,702', ' ₹7,957', ' ₹9,501', ' ₹10,611', ' ₹13,802', ' ₹8,133', ' ₹15,288', ' ₹7,976', ' ₹6,033', ' ₹7,801', ' ₹13,607', ' ₹12,954', ' ₹11,183', ' ₹7,292', ' ₹9,110', ' ₹17,207', ' ₹8,400', ' ₹6,334', ' ₹4,262', ' ₹7,351', ' ₹11,124', ' ₹6,373', ' ₹12,551', ' ₹11,887', ' ₹7,801', ' ₹7,859', ' ₹8,465', ' ₹7,410', ' ₹12,166', ' ₹9,736', ' ₹13,763', ' ₹8,758', ' ₹10,733', ' ₹10,323', ' ₹13,275', ' ₹6,510', ' ₹6,628', ' ₹11,847', ' ₹14,917', ' ₹11,359', ' ₹5,398', ' ₹12,747', ' ₹10,299', ' ₹7,155', ' ₹13,451', ' ₹12,414', ' ₹10,283', ' ₹11,580', ' ₹13,548', ' ₹9,899', ' ₹7,108', ' ₹12,532', ' ₹14,037', ' ₹13,705', ' ₹6,346', ' ₹9,273', ' ₹14,640', ' ₹8,113', ' ₹6,706', ' ₹15,817', ' ₹8,631', ' ₹14,233', ' ₹8,583', ' ₹8,622', ' ₹9,775', ' ₹9,482', ' ₹10,107', ' ₹6,896', ' ₹17,766', ' ₹9,462', ' ₹17,036', ' ₹18,330', ' ₹8,408', ' ₹11,574', ' ₹6,588', ' ₹5,865', ' ₹11,984', ' ₹10,244', ' ₹11,926', ' ₹11,320', ' ₹20,271', ' ₹15,132', ' ₹10,635', ' ₹7,473', ' ₹13,646', ' ₹18,655', ' ₹9,432', ' ₹13,724', ' ₹23,659', ' ₹15,893', ' ₹7,566', ' ₹11,300', ' ₹20,220', ' ₹8,993', ' ₹11,417', ' ₹13,658', ' ₹9,098'], 'Car Fuel': ['Diesel', 'Petrol', 'Petrol', 'Petrol', 'Petrol', 'Petrol', 'Petrol', 'Diesel', 'Petrol', 'Petrol', 'Petrol', 'Petrol', 'Diesel', 'Petrol', 'Petrol', 'Petrol', 'Petrol', 'Petrol', 'Petrol', 'Petrol', 'Petrol', 'Diesel', 'Petrol', 'Petrol', 'CNG', 'Petrol', 'Petrol', 'Petrol', 'Petrol', 'Petrol', 'Petrol', 'Petrol', 'Petrol', 'Petrol', 'Petrol', 'Petrol', 'Petrol', 'Petrol', 'Petrol', 'Petrol', 'Diesel', 'Petrol', 'Petrol', 'CNG', 'Petrol', 'Petrol', 'Petrol', 'Petrol', 'CNG', 'Diesel', 'Petrol', 'CNG', 'Petrol', 'Petrol', 'Petrol', 'Petrol', 'Petrol', 'Petrol', 'Petrol', 'CNG', 'Petrol', 'Petrol', 'Petrol', 'Petrol', 'Petrol', 'Petrol', 'Petrol', 'Petrol', 'Petrol', 'Petrol', 'Petrol', 'Petrol', 'Petrol', 'Petrol', 'Petrol', 'Diesel', 'Petrol', 'Petrol', 'Diesel', 'Petrol', 'Petrol', 'CNG', 'Petrol', 'Petrol', 'CNG', 'Petrol', 'Petrol', 'Petrol', 'Petrol', 'Petrol', 'CNG', 'CNG', 'Petrol', 'Petrol', 'Petrol', 'Petrol', 'Diesel', 'Petrol', 'Petrol', 'Diesel', 'Petrol', 'Petrol', 'Petrol', 'Petrol', 'Petrol', 'Diesel', 'Diesel', 'Petrol', 'CNG', 'Diesel', 'Petrol', 'Petrol', 'Petrol', 'Diesel', 'Petrol', 'Petrol', 'Petrol', 'Petrol', 'Diesel', 'CNG', 'Petrol', 'Petrol', 'Petrol', 'Petrol', 'Petrol', 'Petrol', 'Petrol', 'Petrol', 'Petrol', 'Petrol', 'Petrol', 'Petrol', 'Petrol', 'Petrol', 'Petrol', 'Petrol', 'Petrol', 'Petrol', 'Diesel', 'Petrol', 'Petrol', 'Diesel', 'Petrol', 'Diesel', 'Petrol', 'Petrol', 'Petrol', 'Petrol', 'Petrol', 'Diesel', 'Petrol', 'Petrol', 'Petrol', 'Petrol', 'Petrol', 'Petrol', 'Petrol', 'Petrol', 'Petrol', 'Petrol', 'Petrol', 'Petrol', 'Petrol', 'Petrol', 'CNG', 'CNG', 'CNG', 'Petrol', 'Petrol', 'CNG', 'Petrol', 'Petrol', 'Petrol', 'Petrol', 'Petrol', 'Petrol', 'Petrol', 'Petrol', 'Petrol', 'Petrol', 'Petrol', 'Petrol', 'Petrol', 'Petrol', 'Petrol', 'Petrol', 'Petrol', 'Petrol', 'Petrol', 'Petrol', 'Petrol', 'Petrol', 'Petrol', 'Petrol', 'Petrol', 'Diesel', 'Petrol', 'Petrol', 'Petrol', 'Petrol', 'Diesel', 'Petrol', 'CNG', 'Petrol', 'Petrol', 'Petrol', 'Diesel', 'Petrol', 'Petrol', 'Petrol', 'Petrol', 'Petrol', 'Diesel', 'Diesel', 'Petrol', 'Petrol', 'Petrol', 'Petrol', 'Petrol', 'Petrol', 'Petrol', 'Petrol', 'Petrol', 'Petrol', 'Petrol', 'Petrol', 'Petrol', 'Petrol', 'Petrol', 'Petrol', 'Petrol', 'Petrol', 'Petrol', 'Petrol', 'Petrol', 'Petrol', 'Petrol', 'Petrol', 'Petrol', 'Petrol', 'Petrol', 'Petrol', 'Petrol', 'Petrol', 'Petrol', 'Diesel', 'Petrol', 'Petrol', 'Petrol', 'Petrol', 'Petrol', 'Petrol', 'Petrol', 'Petrol', 'Petrol', 'Petrol', 'Diesel', 'Petrol', 'Petrol', 'Diesel', 'Petrol', 'Petrol', 'Petrol', 'Petrol', 'Petrol', 'Petrol', 'Petrol', 'Petrol', 'Petrol', 'Petrol', 'Diesel', 'Diesel', 'Petrol', 'Diesel', 'Petrol', 'Diesel', 'Petrol', 'Petrol', 'Petrol', 'Petrol', 'Petrol', 'Petrol', 'Petrol', 'Diesel', 'Petrol', 'Petrol', 'Petrol', 'Petrol', 'Petrol', 'Diesel', 'Petrol', 'Petrol', 'Petrol', 'Diesel', 'Diesel', 'Diesel', 'Petrol', 'Petrol', 'Diesel', 'Diesel'], 'Kilometers travelled': ['71,675 ', '15,979 ', '69,639 ', '34,474 ', '29,027 ', '78,152 ', '1,06,215 ', '49,559 ', '16,537 ', '32,596 ', '59,046 ', '11,911 ', '54,392 ', '42,770 ', '61,285 ', '12,634 ', '17,472 ', '11,682 ', '57,242 ', '82,298 ', '59,161 ', '27,603 ', '15,648 ', '10,457 ', '15,950 ', '30,455 ', '29,891 ', '57,902 ', '16,595 ', '39,074 ', '2,971 ', '6,655 ', '12,559 ', '48,008 ', '3,102 ', '18,015 ', '39,254 ', '78,332 ', '54,485 ', '42,867 ', '1,20,050 ', '42,400 ', '61,364 ', '1,11,085 ', '88,820 ', '69,725 ', '83,615 ', '4,296 ', '50,418 ', '47,225 ', '34,771 ', '39,613 ', '66,269 ', '11,341 ', '18,598 ', '55,695 ', '55,248 ', '63,464 ', '70,076 ', '1,09,662 ', '27,924 ', '87,125 ', '69,185 ', '55,605 ', '45,935 ', '33,513 ', '61,102 ', '53,292 ', '34,756 ', '1,05,756 ', '21,204 ', '75,112 ', '50,026 ', '68,070 ', '91,997 ', '1,14,355 ', '19,179 ', '33,263 ', '16,828 ', '23,952 ', '1,10,184 ', '59,786 ', '81,714 ', '18,020 ', '99,508 ', '52,398 ', '4,148 ', '28,610 ', '99,026 ', '13,264 ', '78,605 ', '58,700 ', '60,237 ', '37,682 ', '15,168 ', '1,15,079 ', '95,116 ', '1,23,337 ', '68,377 ', '1,11,848 ', '31,154 ', '19,900 ', '30,719 ', '32,272 ', '51,531 ', '67,168 ', '15,453 ', '24,475 ', '32,318 ', '87,927 ', '14,011 ', '25,973 ', '21,894 ', '72,524 ', '53,062 ', '29,116 ', '67,205 ', '50,309 ', '16,532 ', '1,17,691 ', '56,020 ', '42,419 ', '31,546 ', '39,165 ', '30,938 ', '85,409 ', '28,737 ', '40,608 ', '36,134 ', '8,261 ', '87,242 ', '50,925 ', '70,663 ', '76,899 ', '77,055 ', '91,514 ', '64,871 ', '96,158 ', '95,048 ', '41,522 ', '37,113 ', '96,999 ', '1,01,656 ', '89,916 ', '57,936 ', '41,186 ', '96,964 ', '85,873 ', '71,101 ', '84,719 ', '8,971 ', '24,951 ', '35,241 ', '79,637 ', '40,216 ', '93,524 ', '27,189 ', '30,985 ', '60,320 ', '80,360 ', '51,572 ', '18,382 ', '32,238 ', '44,972 ', '6,799 ', '12,684 ', '49,378 ', '13,103 ', '28,080 ', '17,301 ', '17,329 ', '56,050 ', '2,559 ', '60,416 ', '45,368 ', '67,144 ', '46,306 ', '56,876 ', '41,772 ', '15,517 ', '10,824 ', '29,864 ', '17,009 ', '26,674 ', '47,006 ', '51,630 ', '56,583 ', '64,251 ', '1,02,437 ', '74,436 ', '82,099 ', '90,185 ', '39,484 ', '11,891 ', '48,145 ', '71,057 ', '49,213 ', '63,047 ', '38,839 ', '52,175 ', '66,213 ', '42,038 ', '25,131 ', '33,481 ', '56,943 ', '67,834 ', '86,420 ', '34,127 ', '23,196 ', '49,369 ', '31,561 ', '92,224 ', '89,148 ', '65,800 ', '77,638 ', '62,698 ', '95,981 ', '47,227 ', '44,101 ', '93,357 ', '31,958 ', '11,502 ', '6,820 ', '40,288 ', '37,734 ', '3,268 ', '16,176 ', '13,749 ', '7,278 ', '7,017 ', '13,648 ', '18,139 ', '20,414 ', '27,463 ', '19,469 ', '31,030 ', '40,667 ', '27,288 ', '48,005 ', '18,697 ', '9,985 ', '30,809 ', '63,402 ', '81,062 ', '31,688 ', '91,542 ', '58,886 ', '73,428 ', '37,589 ', '39,551 ', '47,943 ', '41,155 ', '72,617 ', '39,154 ', '47,353 ', '28,435 ', '90,827 ', '58,556 ', '86,080 ', '99,869 ', '32,402 ', '57,031 ', '25,665 ', '32,386 ', '9,017 ', '78,868 ', '22,539 ', '93,616 ', '54,875 ', '87,713 ', '77,735 ', '98,364 ', '29,590 ', '6,761 ', '22,683 ', '81,911 ', '41,808 ', '68,292 ', '8,510 ', '46,576 ', '52,005 ', '60,620 ', '83,011 ', '51,945 ', '39,510 ', '42,669 ', '41,198 ', '53,265 ', '1,00,483 ', '1,09,433 ', '9,456 ', '43,984 ', '11,156 ', '71,323 ', '1,00,239 ', '90,880 ', '28,354 ', '23,360 ', '77,283 ', '1,06,369 '], 'Car Type': ['Manual', 'Manual', 'Manual', 'Manual', 'Manual', 'Manual', 'Manual', 'Manual', 'Automatic', 'Automatic', 'Automatic', 'Automatic', 'Automatic', 'Automatic', 'Manual', 'Automatic', 'Manual', 'Automatic', 'Manual', 'Automatic', 'Manual', 'Manual', 'Manual', 'Manual', 'Manual', 'Manual', 'Manual', 'Manual', 'Manual', 'Manual', 'Manual', 'Manual', 'Manual', 'Manual', 'Automatic', 'Manual', 'Manual', 'Manual', 'Manual', 'Manual', 'Manual', 'Manual', 'Automatic', 'Manual', 'Manual', 'Manual', 'Manual', 'Manual', 'Manual', 'Manual', 'Automatic', 'Manual', 'Automatic', 'Manual', 'Manual', 'Manual', 'Manual', 'Automatic', 'Automatic', 'Manual', 'Manual', 'Manual', 'Automatic', 'Manual', 'Manual', 'Automatic', 'Manual', 'Manual', 'Manual', 'Manual', 'Automatic', 'Automatic', 'Manual', 'Manual', 'Manual', 'Manual', 'Manual', 'Manual', 'Manual', 'Automatic', 'Automatic', 'Manual', 'Manual', 'Manual', 'Manual', 'Automatic', 'Manual', 'Manual', 'Manual', 'Manual', 'Manual', 'Automatic', 'Automatic', 'Manual', 'Manual', 'Manual', 'Manual', 'Manual', 'Manual', 'Manual', 'Manual', 'Manual', 'Manual', 'Manual', 'Manual', 'Automatic', 'Automatic', 'Manual', 'Manual', 'Manual', 'Manual', 'Manual', 'Automatic', 'Manual', 'Manual', 'Automatic', 'Manual', 'Manual', 'Automatic', 'Manual', 'Automatic', 'Manual', 'Automatic', 'Manual', 'Automatic', 'Manual', 'Manual', 'Automatic', 'Manual', 'Manual', 'Manual', 'Manual', 'Manual', 'Automatic', 'Manual', 'Automatic', 'Manual', 'Automatic', 'Automatic', 'Automatic', 'Automatic', 'Manual', 'Manual', 'Manual', 'Manual', 'Automatic', 'Manual', 'Automatic', 'Manual', 'Manual', 'Manual', 'Manual', 'Manual', 'Manual', 'Manual', 'Manual', 'Automatic', 'Automatic', 'Manual', 'Manual', 'Manual', 'Manual', 'Manual', 'Manual', 'Manual', 'Manual', 'Manual', 'Manual', 'Automatic', 'Manual', 'Manual', 'Manual', 'Manual', 'Manual', 'Manual', 'Manual', 'Manual', 'Manual', 'Manual', 'Manual', 'Manual', 'Manual', 'Manual', 'Manual', 'Manual', 'Manual', 'Automatic', 'Manual', 'Manual', 'Manual', 'Manual', 'Automatic', 'Manual', 'Manual', 'Manual', 'Manual', 'Manual', 'Manual', 'Manual', 'Manual', 'Manual', 'Manual', 'Manual', 'Manual', 'Manual', 'Manual', 'Manual', 'Manual', 'Manual', 'Manual', 'Manual', 'Manual', 'Manual', 'Manual', 'Manual', 'Manual', 'Manual', 'Manual', 'Manual', 'Manual', 'Manual', 'Manual', 'Manual', 'Manual', 'Manual', 'Manual', 'Manual', 'Manual', 'Manual', 'Manual', 'Manual', 'Manual', 'Manual', 'Manual', 'Automatic', 'Automatic', 'Automatic', 'Manual', 'Manual', 'Manual', 'Manual', 'Manual', 'Manual', 'Manual', 'Manual', 'Manual', 'Manual', 'Manual', 'Manual', 'Manual', 'Manual', 'Manual', 'Manual', 'Manual', 'Manual', 'Manual', 'Manual', 'Manual', 'Manual', 'Manual', 'Manual', 'Manual', 'Manual', 'Manual', 'Manual', 'Manual', 'Manual', 'Manual', 'Manual', 'Manual', 'Manual', 'Manual', 'Manual', 'Manual', 'Manual', 'Manual', 'Manual', 'Manual', 'Automatic', 'Manual', 'Manual', 'Manual', 'Manual', 'Manual', 'Manual', 'Manual', 'Manual', 'Manual', 'Automatic', 'Manual', 'Manual', 'Manual', 'Manual', 'Manual', 'Manual', 'Manual', 'Automatic', 'Manual', 'Manual', 'Manual']}\n"
     ]
    }
   ],
   "source": [
    "# Defining dictionary in a required form\n",
    "d={\"Car Name\":car_name,\"Car Model Year\":car_model_year,\"Car Company\":car_company,\"Location\":location,\"Price\":price,\"Monthly EMI\":EMI,\"Car Fuel\":fuel,\"Kilometers travelled\":no_of_kms_used,\"Car Type\":car_type}\n",
    "print(d)"
   ]
  },
  {
   "cell_type": "code",
   "execution_count": 20,
   "id": "2b493ff2",
   "metadata": {},
   "outputs": [
    {
     "name": "stdout",
     "output_type": "stream",
     "text": [
      "                                 Car Name Car Model Year Car Company  \\\n",
      "0                    Tata TIGOR XZ DIESEL           2018        Tata   \n",
      "1    Volkswagen TAIGUN TOPLINE 1.0 TSI MT           2022  Volkswagen   \n",
      "2                       Hyundai Eon ERA +           2014     Hyundai   \n",
      "3           Maruti Baleno ZETA PETROL 1.2           2022      Maruti   \n",
      "4                Hyundai NEW SANTRO MAGNA           2020     Hyundai   \n",
      "..                                    ...            ...         ...   \n",
      "295            Toyota Innova 2.5 VX 8 STR           2015      Toyota   \n",
      "296          Maruti S PRESSO VXI PLUS AMT           2020      Maruti   \n",
      "297             Tata TIGOR XZ PLUS PETROL           2020        Tata   \n",
      "298            Hyundai Creta S 1.4 DIESEL           2015     Hyundai   \n",
      "299              Honda City 1.5L I-DTEC E           2015       Honda   \n",
      "\n",
      "       Location        Price Monthly EMI Car Fuel Kilometers travelled  \\\n",
      "0     bangalore   ₹5.46 Lakh     ₹10,674   Diesel              71,675    \n",
      "1     bangalore  ₹16.09 Lakh     ₹30,626   Petrol              15,979    \n",
      "2     bangalore   ₹2.23 Lakh      ₹4,961   Petrol              69,639    \n",
      "3     bangalore   ₹8.20 Lakh     ₹15,608   Petrol              34,474    \n",
      "4     bangalore   ₹4.97 Lakh      ₹9,716   Petrol              29,027    \n",
      "..          ...          ...         ...      ...                  ...   \n",
      "295  chandigarh   ₹9.30 Lakh     ₹20,220   Diesel              90,880    \n",
      "296  chandigarh   ₹4.60 Lakh      ₹8,993   Petrol              28,354    \n",
      "297  chandigarh   ₹5.84 Lakh     ₹11,417   Petrol              23,360    \n",
      "298  chandigarh   ₹6.14 Lakh     ₹13,658   Diesel              77,283    \n",
      "299  chandigarh   ₹4.09 Lakh      ₹9,098   Diesel            1,06,369    \n",
      "\n",
      "      Car Type  \n",
      "0       Manual  \n",
      "1       Manual  \n",
      "2       Manual  \n",
      "3       Manual  \n",
      "4       Manual  \n",
      "..         ...  \n",
      "295     Manual  \n",
      "296  Automatic  \n",
      "297     Manual  \n",
      "298     Manual  \n",
      "299     Manual  \n",
      "\n",
      "[300 rows x 9 columns]\n"
     ]
    }
   ],
   "source": [
    "# Reading dictionary into model using pandas\n",
    "model=pd.DataFrame(data=d)\n",
    "print(model)"
   ]
  },
  {
   "cell_type": "code",
   "execution_count": 17,
   "id": "f04e4faf",
   "metadata": {},
   "outputs": [
    {
     "name": "stdout",
     "output_type": "stream",
     "text": [
      "<class 'pandas.core.frame.DataFrame'>\n",
      "RangeIndex: 300 entries, 0 to 299\n",
      "Data columns (total 9 columns):\n",
      " #   Column                Non-Null Count  Dtype \n",
      "---  ------                --------------  ----- \n",
      " 0   Car Name              300 non-null    object\n",
      " 1   Car Model Year        300 non-null    object\n",
      " 2   Car Company           300 non-null    object\n",
      " 3   Location              300 non-null    object\n",
      " 4   Price                 300 non-null    object\n",
      " 5   Monthly EMI           300 non-null    object\n",
      " 6   Car Fuel              300 non-null    object\n",
      " 7   Kilometers travelled  300 non-null    object\n",
      " 8   Car Type              300 non-null    object\n",
      "dtypes: object(9)\n",
      "memory usage: 21.2+ KB\n"
     ]
    }
   ],
   "source": [
    "# Data validation\n",
    "model.info()"
   ]
  },
  {
   "cell_type": "code",
   "execution_count": 18,
   "id": "1e3d2d9f",
   "metadata": {},
   "outputs": [
    {
     "data": {
      "text/html": [
       "<div>\n",
       "<style scoped>\n",
       "    .dataframe tbody tr th:only-of-type {\n",
       "        vertical-align: middle;\n",
       "    }\n",
       "\n",
       "    .dataframe tbody tr th {\n",
       "        vertical-align: top;\n",
       "    }\n",
       "\n",
       "    .dataframe thead th {\n",
       "        text-align: right;\n",
       "    }\n",
       "</style>\n",
       "<table border=\"1\" class=\"dataframe\">\n",
       "  <thead>\n",
       "    <tr style=\"text-align: right;\">\n",
       "      <th></th>\n",
       "      <th>Unnamed: 0</th>\n",
       "      <th>Car Name</th>\n",
       "      <th>Car Model Year</th>\n",
       "      <th>Car Company</th>\n",
       "      <th>Location</th>\n",
       "      <th>Price</th>\n",
       "      <th>Monthly EMI</th>\n",
       "      <th>Car Fuel</th>\n",
       "      <th>Kilometers travelled</th>\n",
       "      <th>Car Type</th>\n",
       "    </tr>\n",
       "  </thead>\n",
       "  <tbody>\n",
       "    <tr>\n",
       "      <th>0</th>\n",
       "      <td>0</td>\n",
       "      <td>Tata TIGOR XZ DIESEL</td>\n",
       "      <td>2018</td>\n",
       "      <td>Tata</td>\n",
       "      <td>bangalore</td>\n",
       "      <td>₹5.46 Lakh</td>\n",
       "      <td>₹10,674</td>\n",
       "      <td>Diesel</td>\n",
       "      <td>71,675</td>\n",
       "      <td>Manual</td>\n",
       "    </tr>\n",
       "    <tr>\n",
       "      <th>1</th>\n",
       "      <td>1</td>\n",
       "      <td>Volkswagen TAIGUN TOPLINE 1.0 TSI MT</td>\n",
       "      <td>2022</td>\n",
       "      <td>Volkswagen</td>\n",
       "      <td>bangalore</td>\n",
       "      <td>₹16.09 Lakh</td>\n",
       "      <td>₹30,626</td>\n",
       "      <td>Petrol</td>\n",
       "      <td>15,979</td>\n",
       "      <td>Manual</td>\n",
       "    </tr>\n",
       "    <tr>\n",
       "      <th>2</th>\n",
       "      <td>2</td>\n",
       "      <td>Hyundai Eon ERA +</td>\n",
       "      <td>2014</td>\n",
       "      <td>Hyundai</td>\n",
       "      <td>bangalore</td>\n",
       "      <td>₹2.23 Lakh</td>\n",
       "      <td>₹4,961</td>\n",
       "      <td>Petrol</td>\n",
       "      <td>69,639</td>\n",
       "      <td>Manual</td>\n",
       "    </tr>\n",
       "    <tr>\n",
       "      <th>3</th>\n",
       "      <td>3</td>\n",
       "      <td>Maruti Baleno ZETA PETROL 1.2</td>\n",
       "      <td>2022</td>\n",
       "      <td>Maruti</td>\n",
       "      <td>bangalore</td>\n",
       "      <td>₹8.20 Lakh</td>\n",
       "      <td>₹15,608</td>\n",
       "      <td>Petrol</td>\n",
       "      <td>34,474</td>\n",
       "      <td>Manual</td>\n",
       "    </tr>\n",
       "    <tr>\n",
       "      <th>4</th>\n",
       "      <td>4</td>\n",
       "      <td>Hyundai NEW SANTRO MAGNA</td>\n",
       "      <td>2020</td>\n",
       "      <td>Hyundai</td>\n",
       "      <td>bangalore</td>\n",
       "      <td>₹4.97 Lakh</td>\n",
       "      <td>₹9,716</td>\n",
       "      <td>Petrol</td>\n",
       "      <td>29,027</td>\n",
       "      <td>Manual</td>\n",
       "    </tr>\n",
       "    <tr>\n",
       "      <th>...</th>\n",
       "      <td>...</td>\n",
       "      <td>...</td>\n",
       "      <td>...</td>\n",
       "      <td>...</td>\n",
       "      <td>...</td>\n",
       "      <td>...</td>\n",
       "      <td>...</td>\n",
       "      <td>...</td>\n",
       "      <td>...</td>\n",
       "      <td>...</td>\n",
       "    </tr>\n",
       "    <tr>\n",
       "      <th>295</th>\n",
       "      <td>295</td>\n",
       "      <td>Toyota Innova 2.5 VX 8 STR</td>\n",
       "      <td>2015</td>\n",
       "      <td>Toyota</td>\n",
       "      <td>chandigarh</td>\n",
       "      <td>₹9.30 Lakh</td>\n",
       "      <td>₹20,220</td>\n",
       "      <td>Diesel</td>\n",
       "      <td>90,880</td>\n",
       "      <td>Manual</td>\n",
       "    </tr>\n",
       "    <tr>\n",
       "      <th>296</th>\n",
       "      <td>296</td>\n",
       "      <td>Maruti S PRESSO VXI PLUS AMT</td>\n",
       "      <td>2020</td>\n",
       "      <td>Maruti</td>\n",
       "      <td>chandigarh</td>\n",
       "      <td>₹4.60 Lakh</td>\n",
       "      <td>₹8,993</td>\n",
       "      <td>Petrol</td>\n",
       "      <td>28,354</td>\n",
       "      <td>Automatic</td>\n",
       "    </tr>\n",
       "    <tr>\n",
       "      <th>297</th>\n",
       "      <td>297</td>\n",
       "      <td>Tata TIGOR XZ PLUS PETROL</td>\n",
       "      <td>2020</td>\n",
       "      <td>Tata</td>\n",
       "      <td>chandigarh</td>\n",
       "      <td>₹5.84 Lakh</td>\n",
       "      <td>₹11,417</td>\n",
       "      <td>Petrol</td>\n",
       "      <td>23,360</td>\n",
       "      <td>Manual</td>\n",
       "    </tr>\n",
       "    <tr>\n",
       "      <th>298</th>\n",
       "      <td>298</td>\n",
       "      <td>Hyundai Creta S 1.4 DIESEL</td>\n",
       "      <td>2015</td>\n",
       "      <td>Hyundai</td>\n",
       "      <td>chandigarh</td>\n",
       "      <td>₹6.14 Lakh</td>\n",
       "      <td>₹13,658</td>\n",
       "      <td>Diesel</td>\n",
       "      <td>77,283</td>\n",
       "      <td>Manual</td>\n",
       "    </tr>\n",
       "    <tr>\n",
       "      <th>299</th>\n",
       "      <td>299</td>\n",
       "      <td>Honda City 1.5L I-DTEC E</td>\n",
       "      <td>2015</td>\n",
       "      <td>Honda</td>\n",
       "      <td>chandigarh</td>\n",
       "      <td>₹4.09 Lakh</td>\n",
       "      <td>₹9,098</td>\n",
       "      <td>Diesel</td>\n",
       "      <td>1,06,369</td>\n",
       "      <td>Manual</td>\n",
       "    </tr>\n",
       "  </tbody>\n",
       "</table>\n",
       "<p>300 rows × 10 columns</p>\n",
       "</div>"
      ],
      "text/plain": [
       "     Unnamed: 0                              Car Name  Car Model Year  \\\n",
       "0             0                  Tata TIGOR XZ DIESEL            2018   \n",
       "1             1  Volkswagen TAIGUN TOPLINE 1.0 TSI MT            2022   \n",
       "2             2                     Hyundai Eon ERA +            2014   \n",
       "3             3         Maruti Baleno ZETA PETROL 1.2            2022   \n",
       "4             4              Hyundai NEW SANTRO MAGNA            2020   \n",
       "..          ...                                   ...             ...   \n",
       "295         295            Toyota Innova 2.5 VX 8 STR            2015   \n",
       "296         296          Maruti S PRESSO VXI PLUS AMT            2020   \n",
       "297         297             Tata TIGOR XZ PLUS PETROL            2020   \n",
       "298         298            Hyundai Creta S 1.4 DIESEL            2015   \n",
       "299         299              Honda City 1.5L I-DTEC E            2015   \n",
       "\n",
       "    Car Company    Location        Price Monthly EMI Car Fuel  \\\n",
       "0          Tata   bangalore   ₹5.46 Lakh     ₹10,674   Diesel   \n",
       "1    Volkswagen   bangalore  ₹16.09 Lakh     ₹30,626   Petrol   \n",
       "2       Hyundai   bangalore   ₹2.23 Lakh      ₹4,961   Petrol   \n",
       "3        Maruti   bangalore   ₹8.20 Lakh     ₹15,608   Petrol   \n",
       "4       Hyundai   bangalore   ₹4.97 Lakh      ₹9,716   Petrol   \n",
       "..          ...         ...          ...         ...      ...   \n",
       "295      Toyota  chandigarh   ₹9.30 Lakh     ₹20,220   Diesel   \n",
       "296      Maruti  chandigarh   ₹4.60 Lakh      ₹8,993   Petrol   \n",
       "297        Tata  chandigarh   ₹5.84 Lakh     ₹11,417   Petrol   \n",
       "298     Hyundai  chandigarh   ₹6.14 Lakh     ₹13,658   Diesel   \n",
       "299       Honda  chandigarh   ₹4.09 Lakh      ₹9,098   Diesel   \n",
       "\n",
       "    Kilometers travelled   Car Type  \n",
       "0                71,675      Manual  \n",
       "1                15,979      Manual  \n",
       "2                69,639      Manual  \n",
       "3                34,474      Manual  \n",
       "4                29,027      Manual  \n",
       "..                   ...        ...  \n",
       "295              90,880      Manual  \n",
       "296              28,354   Automatic  \n",
       "297              23,360      Manual  \n",
       "298              77,283      Manual  \n",
       "299            1,06,369      Manual  \n",
       "\n",
       "[300 rows x 10 columns]"
      ]
     },
     "execution_count": 18,
     "metadata": {},
     "output_type": "execute_result"
    }
   ],
   "source": [
    "# Converting model into a csv file\n",
    "model.to_csv(\"Used Cars Data.csv\")\n",
    "# Reading contents of created csv file\n",
    "csv_data=pd.read_csv(r\"Used Cars Data.csv\")\n",
    "csv_data"
   ]
  },
  {
   "cell_type": "code",
   "execution_count": null,
   "id": "12b705ee",
   "metadata": {},
   "outputs": [],
   "source": []
  }
 ],
 "metadata": {
  "kernelspec": {
   "display_name": "Python 3 (ipykernel)",
   "language": "python",
   "name": "python3"
  },
  "language_info": {
   "codemirror_mode": {
    "name": "ipython",
    "version": 3
   },
   "file_extension": ".py",
   "mimetype": "text/x-python",
   "name": "python",
   "nbconvert_exporter": "python",
   "pygments_lexer": "ipython3",
   "version": "3.11.5"
  }
 },
 "nbformat": 4,
 "nbformat_minor": 5
}
